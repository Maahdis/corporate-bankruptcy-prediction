{
 "cells": [
  {
   "cell_type": "code",
   "execution_count": 1,
   "metadata": {},
   "outputs": [
    {
     "name": "stderr",
     "output_type": "stream",
     "text": [
      "2023-07-20 21:40:01.723541: I tensorflow/core/util/port.cc:110] oneDNN custom operations are on. You may see slightly different numerical results due to floating-point round-off errors from different computation orders. To turn them off, set the environment variable `TF_ENABLE_ONEDNN_OPTS=0`.\n",
      "2023-07-20 21:40:01.724947: I tensorflow/tsl/cuda/cudart_stub.cc:28] Could not find cuda drivers on your machine, GPU will not be used.\n",
      "2023-07-20 21:40:01.756281: I tensorflow/tsl/cuda/cudart_stub.cc:28] Could not find cuda drivers on your machine, GPU will not be used.\n",
      "2023-07-20 21:40:01.756887: I tensorflow/core/platform/cpu_feature_guard.cc:182] This TensorFlow binary is optimized to use available CPU instructions in performance-critical operations.\n",
      "To enable the following instructions: AVX2 AVX512F AVX512_VNNI FMA, in other operations, rebuild TensorFlow with the appropriate compiler flags.\n",
      "2023-07-20 21:40:02.313485: W tensorflow/compiler/tf2tensorrt/utils/py_utils.cc:38] TF-TRT Warning: Could not find TensorRT\n"
     ]
    }
   ],
   "source": [
    "import pandas as pd\n",
    "import numpy as np\n",
    "import plotly.graph_objects as go\n",
    "import plotly.express as px\n",
    "from sklearn.preprocessing import LabelEncoder\n",
    "from sklearn.preprocessing import MinMaxScaler\n",
    "from tensorflow import keras"
   ]
  },
  {
   "cell_type": "code",
   "execution_count": 2,
   "metadata": {},
   "outputs": [
    {
     "name": "stdout",
     "output_type": "stream",
     "text": [
      "(899, 427)\n"
     ]
    },
    {
     "data": {
      "text/html": [
       "<div>\n",
       "<style scoped>\n",
       "    .dataframe tbody tr th:only-of-type {\n",
       "        vertical-align: middle;\n",
       "    }\n",
       "\n",
       "    .dataframe tbody tr th {\n",
       "        vertical-align: top;\n",
       "    }\n",
       "\n",
       "    .dataframe thead th {\n",
       "        text-align: right;\n",
       "    }\n",
       "</style>\n",
       "<table border=\"1\" class=\"dataframe\">\n",
       "  <thead>\n",
       "    <tr style=\"text-align: right;\">\n",
       "      <th></th>\n",
       "      <th>TSE_FY</th>\n",
       "      <th>RE_FY</th>\n",
       "      <th>y</th>\n",
       "      <th>Custom-Return</th>\n",
       "      <th>PtoB</th>\n",
       "      <th>PtoS</th>\n",
       "      <th>PtoFCFF</th>\n",
       "      <th>PtoE_ttm</th>\n",
       "      <th>PtoFCFE</th>\n",
       "      <th>PtoNAV</th>\n",
       "      <th>...</th>\n",
       "      <th>OP_FY</th>\n",
       "      <th>TA_MRQ</th>\n",
       "      <th>TA_FY</th>\n",
       "      <th>TL_MRQ</th>\n",
       "      <th>TL_FY</th>\n",
       "      <th>TSE_MRQ</th>\n",
       "      <th>RE_MRQ</th>\n",
       "      <th>FE_TTM</th>\n",
       "      <th>FE_MRQ</th>\n",
       "      <th>FE_FY</th>\n",
       "    </tr>\n",
       "  </thead>\n",
       "  <tbody>\n",
       "    <tr>\n",
       "      <th>0</th>\n",
       "      <td>4.371690e+11</td>\n",
       "      <td>-1.348210e+14</td>\n",
       "      <td>308.395650</td>\n",
       "      <td>-0.046138</td>\n",
       "      <td>NaN</td>\n",
       "      <td>NaN</td>\n",
       "      <td>NaN</td>\n",
       "      <td>NaN</td>\n",
       "      <td>NaN</td>\n",
       "      <td>NaN</td>\n",
       "      <td>...</td>\n",
       "      <td>NaN</td>\n",
       "      <td>5.781578e+14</td>\n",
       "      <td>5.709565e+14</td>\n",
       "      <td>6.205788e+14</td>\n",
       "      <td>5.705193e+14</td>\n",
       "      <td>-4.242109e+13</td>\n",
       "      <td>-1.731840e+14</td>\n",
       "      <td>7.986821e+12</td>\n",
       "      <td>4.155223e+12</td>\n",
       "      <td>1.144012e+12</td>\n",
       "    </tr>\n",
       "    <tr>\n",
       "      <th>1</th>\n",
       "      <td>-1.125286e+15</td>\n",
       "      <td>-1.142159e+15</td>\n",
       "      <td>1.014995</td>\n",
       "      <td>NaN</td>\n",
       "      <td>NaN</td>\n",
       "      <td>NaN</td>\n",
       "      <td>48.5539</td>\n",
       "      <td>NaN</td>\n",
       "      <td>27.0587</td>\n",
       "      <td>NaN</td>\n",
       "      <td>...</td>\n",
       "      <td>NaN</td>\n",
       "      <td>3.158876e+15</td>\n",
       "      <td>3.158876e+15</td>\n",
       "      <td>4.284162e+15</td>\n",
       "      <td>4.284162e+15</td>\n",
       "      <td>-1.125286e+15</td>\n",
       "      <td>-1.142159e+15</td>\n",
       "      <td>8.043798e+13</td>\n",
       "      <td>3.522180e+13</td>\n",
       "      <td>8.043798e+13</td>\n",
       "    </tr>\n",
       "    <tr>\n",
       "      <th>2</th>\n",
       "      <td>1.995942e+15</td>\n",
       "      <td>2.536933e+14</td>\n",
       "      <td>0.127105</td>\n",
       "      <td>0.604888</td>\n",
       "      <td>1.1937</td>\n",
       "      <td>9.4587</td>\n",
       "      <td>NaN</td>\n",
       "      <td>10.2428</td>\n",
       "      <td>NaN</td>\n",
       "      <td>0.8344</td>\n",
       "      <td>...</td>\n",
       "      <td>2.219208e+14</td>\n",
       "      <td>1.895281e+15</td>\n",
       "      <td>2.053317e+15</td>\n",
       "      <td>1.231507e+14</td>\n",
       "      <td>5.737468e+13</td>\n",
       "      <td>1.772130e+15</td>\n",
       "      <td>2.437543e+13</td>\n",
       "      <td>1.652797e+13</td>\n",
       "      <td>8.066030e+12</td>\n",
       "      <td>1.119782e+13</td>\n",
       "    </tr>\n",
       "    <tr>\n",
       "      <th>3</th>\n",
       "      <td>4.573182e+13</td>\n",
       "      <td>2.767290e+12</td>\n",
       "      <td>0.060511</td>\n",
       "      <td>0.638978</td>\n",
       "      <td>1.3568</td>\n",
       "      <td>265.4196</td>\n",
       "      <td>NaN</td>\n",
       "      <td>471.9549</td>\n",
       "      <td>NaN</td>\n",
       "      <td>1.3550</td>\n",
       "      <td>...</td>\n",
       "      <td>1.967870e+11</td>\n",
       "      <td>4.591844e+13</td>\n",
       "      <td>4.622727e+13</td>\n",
       "      <td>5.911390e+11</td>\n",
       "      <td>4.954510e+11</td>\n",
       "      <td>4.532730e+13</td>\n",
       "      <td>2.369800e+12</td>\n",
       "      <td>NaN</td>\n",
       "      <td>NaN</td>\n",
       "      <td>NaN</td>\n",
       "    </tr>\n",
       "    <tr>\n",
       "      <th>4</th>\n",
       "      <td>-4.739843e+13</td>\n",
       "      <td>-1.610339e+14</td>\n",
       "      <td>3.397452</td>\n",
       "      <td>0.306068</td>\n",
       "      <td>NaN</td>\n",
       "      <td>0.8690</td>\n",
       "      <td>NaN</td>\n",
       "      <td>NaN</td>\n",
       "      <td>NaN</td>\n",
       "      <td>NaN</td>\n",
       "      <td>...</td>\n",
       "      <td>-7.346602e+13</td>\n",
       "      <td>1.371765e+14</td>\n",
       "      <td>1.371765e+14</td>\n",
       "      <td>1.845749e+14</td>\n",
       "      <td>1.845749e+14</td>\n",
       "      <td>-4.739843e+13</td>\n",
       "      <td>-1.610339e+14</td>\n",
       "      <td>4.607902e+12</td>\n",
       "      <td>1.666914e+12</td>\n",
       "      <td>4.607902e+12</td>\n",
       "    </tr>\n",
       "  </tbody>\n",
       "</table>\n",
       "<p>5 rows × 427 columns</p>\n",
       "</div>"
      ],
      "text/plain": [
       "         TSE_FY         RE_FY           y  Custom-Return    PtoB      PtoS  \\\n",
       "0  4.371690e+11 -1.348210e+14  308.395650      -0.046138     NaN       NaN   \n",
       "1 -1.125286e+15 -1.142159e+15    1.014995            NaN     NaN       NaN   \n",
       "2  1.995942e+15  2.536933e+14    0.127105       0.604888  1.1937    9.4587   \n",
       "3  4.573182e+13  2.767290e+12    0.060511       0.638978  1.3568  265.4196   \n",
       "4 -4.739843e+13 -1.610339e+14    3.397452       0.306068     NaN    0.8690   \n",
       "\n",
       "   PtoFCFF  PtoE_ttm  PtoFCFE  PtoNAV  ...         OP_FY        TA_MRQ  \\\n",
       "0      NaN       NaN      NaN     NaN  ...           NaN  5.781578e+14   \n",
       "1  48.5539       NaN  27.0587     NaN  ...           NaN  3.158876e+15   \n",
       "2      NaN   10.2428      NaN  0.8344  ...  2.219208e+14  1.895281e+15   \n",
       "3      NaN  471.9549      NaN  1.3550  ...  1.967870e+11  4.591844e+13   \n",
       "4      NaN       NaN      NaN     NaN  ... -7.346602e+13  1.371765e+14   \n",
       "\n",
       "          TA_FY        TL_MRQ         TL_FY       TSE_MRQ        RE_MRQ  \\\n",
       "0  5.709565e+14  6.205788e+14  5.705193e+14 -4.242109e+13 -1.731840e+14   \n",
       "1  3.158876e+15  4.284162e+15  4.284162e+15 -1.125286e+15 -1.142159e+15   \n",
       "2  2.053317e+15  1.231507e+14  5.737468e+13  1.772130e+15  2.437543e+13   \n",
       "3  4.622727e+13  5.911390e+11  4.954510e+11  4.532730e+13  2.369800e+12   \n",
       "4  1.371765e+14  1.845749e+14  1.845749e+14 -4.739843e+13 -1.610339e+14   \n",
       "\n",
       "         FE_TTM        FE_MRQ         FE_FY  \n",
       "0  7.986821e+12  4.155223e+12  1.144012e+12  \n",
       "1  8.043798e+13  3.522180e+13  8.043798e+13  \n",
       "2  1.652797e+13  8.066030e+12  1.119782e+13  \n",
       "3           NaN           NaN           NaN  \n",
       "4  4.607902e+12  1.666914e+12  4.607902e+12  \n",
       "\n",
       "[5 rows x 427 columns]"
      ]
     },
     "execution_count": 2,
     "metadata": {},
     "output_type": "execute_result"
    }
   ],
   "source": [
    "df = pd.read_excel('./data.xlsx')\n",
    "df = df.rename(columns={'Conclusion': 'y'})\n",
    "df = df.drop(columns=['Company', 'Symbol', 'Chart'])\n",
    "df = df.replace('-', np.nan)\n",
    "print(df.shape)\n",
    "df.head()"
   ]
  },
  {
   "cell_type": "code",
   "execution_count": 3,
   "metadata": {},
   "outputs": [
    {
     "data": {
      "text/html": [
       "<div>\n",
       "<style scoped>\n",
       "    .dataframe tbody tr th:only-of-type {\n",
       "        vertical-align: middle;\n",
       "    }\n",
       "\n",
       "    .dataframe tbody tr th {\n",
       "        vertical-align: top;\n",
       "    }\n",
       "\n",
       "    .dataframe thead th {\n",
       "        text-align: right;\n",
       "    }\n",
       "</style>\n",
       "<table border=\"1\" class=\"dataframe\">\n",
       "  <thead>\n",
       "    <tr style=\"text-align: right;\">\n",
       "      <th></th>\n",
       "      <th>TSE_FY</th>\n",
       "      <th>RE_FY</th>\n",
       "      <th>y</th>\n",
       "      <th>Custom-Return</th>\n",
       "      <th>PtoB</th>\n",
       "      <th>PtoS</th>\n",
       "      <th>PtoFCFF</th>\n",
       "      <th>PtoE_ttm</th>\n",
       "      <th>PtoFCFE</th>\n",
       "      <th>PtoNAV</th>\n",
       "      <th>...</th>\n",
       "      <th>OP_FY</th>\n",
       "      <th>TA_MRQ</th>\n",
       "      <th>TA_FY</th>\n",
       "      <th>TL_MRQ</th>\n",
       "      <th>TL_FY</th>\n",
       "      <th>TSE_MRQ</th>\n",
       "      <th>RE_MRQ</th>\n",
       "      <th>FE_TTM</th>\n",
       "      <th>FE_MRQ</th>\n",
       "      <th>FE_FY</th>\n",
       "    </tr>\n",
       "  </thead>\n",
       "  <tbody>\n",
       "    <tr>\n",
       "      <th>0</th>\n",
       "      <td>4.371690e+11</td>\n",
       "      <td>-1.348210e+14</td>\n",
       "      <td>308.395650</td>\n",
       "      <td>-0.046138</td>\n",
       "      <td>NaN</td>\n",
       "      <td>NaN</td>\n",
       "      <td>NaN</td>\n",
       "      <td>NaN</td>\n",
       "      <td>NaN</td>\n",
       "      <td>NaN</td>\n",
       "      <td>...</td>\n",
       "      <td>NaN</td>\n",
       "      <td>5.781578e+14</td>\n",
       "      <td>5.709565e+14</td>\n",
       "      <td>6.205788e+14</td>\n",
       "      <td>5.705193e+14</td>\n",
       "      <td>-4.242109e+13</td>\n",
       "      <td>-1.731840e+14</td>\n",
       "      <td>7.986821e+12</td>\n",
       "      <td>4.155223e+12</td>\n",
       "      <td>1.144012e+12</td>\n",
       "    </tr>\n",
       "    <tr>\n",
       "      <th>1</th>\n",
       "      <td>-1.125286e+15</td>\n",
       "      <td>-1.142159e+15</td>\n",
       "      <td>1.014995</td>\n",
       "      <td>NaN</td>\n",
       "      <td>NaN</td>\n",
       "      <td>NaN</td>\n",
       "      <td>48.5539</td>\n",
       "      <td>NaN</td>\n",
       "      <td>27.0587</td>\n",
       "      <td>NaN</td>\n",
       "      <td>...</td>\n",
       "      <td>NaN</td>\n",
       "      <td>3.158876e+15</td>\n",
       "      <td>3.158876e+15</td>\n",
       "      <td>4.284162e+15</td>\n",
       "      <td>4.284162e+15</td>\n",
       "      <td>-1.125286e+15</td>\n",
       "      <td>-1.142159e+15</td>\n",
       "      <td>8.043798e+13</td>\n",
       "      <td>3.522180e+13</td>\n",
       "      <td>8.043798e+13</td>\n",
       "    </tr>\n",
       "    <tr>\n",
       "      <th>2</th>\n",
       "      <td>1.995942e+15</td>\n",
       "      <td>2.536933e+14</td>\n",
       "      <td>0.127105</td>\n",
       "      <td>0.604888</td>\n",
       "      <td>1.1937</td>\n",
       "      <td>9.4587</td>\n",
       "      <td>NaN</td>\n",
       "      <td>10.2428</td>\n",
       "      <td>NaN</td>\n",
       "      <td>0.8344</td>\n",
       "      <td>...</td>\n",
       "      <td>2.219208e+14</td>\n",
       "      <td>1.895281e+15</td>\n",
       "      <td>2.053317e+15</td>\n",
       "      <td>1.231507e+14</td>\n",
       "      <td>5.737468e+13</td>\n",
       "      <td>1.772130e+15</td>\n",
       "      <td>2.437543e+13</td>\n",
       "      <td>1.652797e+13</td>\n",
       "      <td>8.066030e+12</td>\n",
       "      <td>1.119782e+13</td>\n",
       "    </tr>\n",
       "    <tr>\n",
       "      <th>3</th>\n",
       "      <td>4.573182e+13</td>\n",
       "      <td>2.767290e+12</td>\n",
       "      <td>0.060511</td>\n",
       "      <td>0.638978</td>\n",
       "      <td>1.3568</td>\n",
       "      <td>265.4196</td>\n",
       "      <td>NaN</td>\n",
       "      <td>471.9549</td>\n",
       "      <td>NaN</td>\n",
       "      <td>1.3550</td>\n",
       "      <td>...</td>\n",
       "      <td>1.967870e+11</td>\n",
       "      <td>4.591844e+13</td>\n",
       "      <td>4.622727e+13</td>\n",
       "      <td>5.911390e+11</td>\n",
       "      <td>4.954510e+11</td>\n",
       "      <td>4.532730e+13</td>\n",
       "      <td>2.369800e+12</td>\n",
       "      <td>NaN</td>\n",
       "      <td>NaN</td>\n",
       "      <td>NaN</td>\n",
       "    </tr>\n",
       "    <tr>\n",
       "      <th>4</th>\n",
       "      <td>-4.739843e+13</td>\n",
       "      <td>-1.610339e+14</td>\n",
       "      <td>3.397452</td>\n",
       "      <td>0.306068</td>\n",
       "      <td>NaN</td>\n",
       "      <td>0.8690</td>\n",
       "      <td>NaN</td>\n",
       "      <td>NaN</td>\n",
       "      <td>NaN</td>\n",
       "      <td>NaN</td>\n",
       "      <td>...</td>\n",
       "      <td>-7.346602e+13</td>\n",
       "      <td>1.371765e+14</td>\n",
       "      <td>1.371765e+14</td>\n",
       "      <td>1.845749e+14</td>\n",
       "      <td>1.845749e+14</td>\n",
       "      <td>-4.739843e+13</td>\n",
       "      <td>-1.610339e+14</td>\n",
       "      <td>4.607902e+12</td>\n",
       "      <td>1.666914e+12</td>\n",
       "      <td>4.607902e+12</td>\n",
       "    </tr>\n",
       "  </tbody>\n",
       "</table>\n",
       "<p>5 rows × 427 columns</p>\n",
       "</div>"
      ],
      "text/plain": [
       "         TSE_FY         RE_FY           y  Custom-Return    PtoB      PtoS  \\\n",
       "0  4.371690e+11 -1.348210e+14  308.395650      -0.046138     NaN       NaN   \n",
       "1 -1.125286e+15 -1.142159e+15    1.014995            NaN     NaN       NaN   \n",
       "2  1.995942e+15  2.536933e+14    0.127105       0.604888  1.1937    9.4587   \n",
       "3  4.573182e+13  2.767290e+12    0.060511       0.638978  1.3568  265.4196   \n",
       "4 -4.739843e+13 -1.610339e+14    3.397452       0.306068     NaN    0.8690   \n",
       "\n",
       "   PtoFCFF  PtoE_ttm  PtoFCFE  PtoNAV  ...         OP_FY        TA_MRQ  \\\n",
       "0      NaN       NaN      NaN     NaN  ...           NaN  5.781578e+14   \n",
       "1  48.5539       NaN  27.0587     NaN  ...           NaN  3.158876e+15   \n",
       "2      NaN   10.2428      NaN  0.8344  ...  2.219208e+14  1.895281e+15   \n",
       "3      NaN  471.9549      NaN  1.3550  ...  1.967870e+11  4.591844e+13   \n",
       "4      NaN       NaN      NaN     NaN  ... -7.346602e+13  1.371765e+14   \n",
       "\n",
       "          TA_FY        TL_MRQ         TL_FY       TSE_MRQ        RE_MRQ  \\\n",
       "0  5.709565e+14  6.205788e+14  5.705193e+14 -4.242109e+13 -1.731840e+14   \n",
       "1  3.158876e+15  4.284162e+15  4.284162e+15 -1.125286e+15 -1.142159e+15   \n",
       "2  2.053317e+15  1.231507e+14  5.737468e+13  1.772130e+15  2.437543e+13   \n",
       "3  4.622727e+13  5.911390e+11  4.954510e+11  4.532730e+13  2.369800e+12   \n",
       "4  1.371765e+14  1.845749e+14  1.845749e+14 -4.739843e+13 -1.610339e+14   \n",
       "\n",
       "         FE_TTM        FE_MRQ         FE_FY  \n",
       "0  7.986821e+12  4.155223e+12  1.144012e+12  \n",
       "1  8.043798e+13  3.522180e+13  8.043798e+13  \n",
       "2  1.652797e+13  8.066030e+12  1.119782e+13  \n",
       "3           NaN           NaN           NaN  \n",
       "4  4.607902e+12  1.666914e+12  4.607902e+12  \n",
       "\n",
       "[5 rows x 427 columns]"
      ]
     },
     "execution_count": 3,
     "metadata": {},
     "output_type": "execute_result"
    }
   ],
   "source": [
    "le = LabelEncoder()\n",
    "df['Industry'] = le.fit_transform(df['Industry'])\n",
    "df.head()"
   ]
  },
  {
   "cell_type": "code",
   "execution_count": 4,
   "metadata": {},
   "outputs": [
    {
     "data": {
      "text/html": [
       "<div>\n",
       "<style scoped>\n",
       "    .dataframe tbody tr th:only-of-type {\n",
       "        vertical-align: middle;\n",
       "    }\n",
       "\n",
       "    .dataframe tbody tr th {\n",
       "        vertical-align: top;\n",
       "    }\n",
       "\n",
       "    .dataframe thead th {\n",
       "        text-align: right;\n",
       "    }\n",
       "</style>\n",
       "<table border=\"1\" class=\"dataframe\">\n",
       "  <thead>\n",
       "    <tr style=\"text-align: right;\">\n",
       "      <th></th>\n",
       "      <th>TSE_FY</th>\n",
       "      <th>RE_FY</th>\n",
       "      <th>y</th>\n",
       "      <th>Custom-Return</th>\n",
       "      <th>PtoB</th>\n",
       "      <th>PtoS</th>\n",
       "      <th>PtoFCFF</th>\n",
       "      <th>PtoE_ttm</th>\n",
       "      <th>PtoFCFE</th>\n",
       "      <th>PtoNAV</th>\n",
       "      <th>...</th>\n",
       "      <th>OP_FY</th>\n",
       "      <th>TA_MRQ</th>\n",
       "      <th>TA_FY</th>\n",
       "      <th>TL_MRQ</th>\n",
       "      <th>TL_FY</th>\n",
       "      <th>TSE_MRQ</th>\n",
       "      <th>RE_MRQ</th>\n",
       "      <th>FE_TTM</th>\n",
       "      <th>FE_MRQ</th>\n",
       "      <th>FE_FY</th>\n",
       "    </tr>\n",
       "  </thead>\n",
       "  <tbody>\n",
       "    <tr>\n",
       "      <th>0</th>\n",
       "      <td>4.371690e+11</td>\n",
       "      <td>-1.348210e+14</td>\n",
       "      <td>308.395650</td>\n",
       "      <td>-0.046138</td>\n",
       "      <td>NaN</td>\n",
       "      <td>NaN</td>\n",
       "      <td>NaN</td>\n",
       "      <td>NaN</td>\n",
       "      <td>NaN</td>\n",
       "      <td>NaN</td>\n",
       "      <td>...</td>\n",
       "      <td>NaN</td>\n",
       "      <td>5.781578e+14</td>\n",
       "      <td>5.709565e+14</td>\n",
       "      <td>6.205788e+14</td>\n",
       "      <td>5.705193e+14</td>\n",
       "      <td>-4.242109e+13</td>\n",
       "      <td>-1.731840e+14</td>\n",
       "      <td>7.986821e+12</td>\n",
       "      <td>4.155223e+12</td>\n",
       "      <td>1.144012e+12</td>\n",
       "    </tr>\n",
       "    <tr>\n",
       "      <th>1</th>\n",
       "      <td>-1.125286e+15</td>\n",
       "      <td>-1.142159e+15</td>\n",
       "      <td>1.014995</td>\n",
       "      <td>NaN</td>\n",
       "      <td>NaN</td>\n",
       "      <td>NaN</td>\n",
       "      <td>48.5539</td>\n",
       "      <td>NaN</td>\n",
       "      <td>27.0587</td>\n",
       "      <td>NaN</td>\n",
       "      <td>...</td>\n",
       "      <td>NaN</td>\n",
       "      <td>3.158876e+15</td>\n",
       "      <td>3.158876e+15</td>\n",
       "      <td>4.284162e+15</td>\n",
       "      <td>4.284162e+15</td>\n",
       "      <td>-1.125286e+15</td>\n",
       "      <td>-1.142159e+15</td>\n",
       "      <td>8.043798e+13</td>\n",
       "      <td>3.522180e+13</td>\n",
       "      <td>8.043798e+13</td>\n",
       "    </tr>\n",
       "    <tr>\n",
       "      <th>2</th>\n",
       "      <td>1.995942e+15</td>\n",
       "      <td>2.536933e+14</td>\n",
       "      <td>0.127105</td>\n",
       "      <td>0.604888</td>\n",
       "      <td>1.1937</td>\n",
       "      <td>9.4587</td>\n",
       "      <td>NaN</td>\n",
       "      <td>10.2428</td>\n",
       "      <td>NaN</td>\n",
       "      <td>0.8344</td>\n",
       "      <td>...</td>\n",
       "      <td>2.219208e+14</td>\n",
       "      <td>1.895281e+15</td>\n",
       "      <td>2.053317e+15</td>\n",
       "      <td>1.231507e+14</td>\n",
       "      <td>5.737468e+13</td>\n",
       "      <td>1.772130e+15</td>\n",
       "      <td>2.437543e+13</td>\n",
       "      <td>1.652797e+13</td>\n",
       "      <td>8.066030e+12</td>\n",
       "      <td>1.119782e+13</td>\n",
       "    </tr>\n",
       "    <tr>\n",
       "      <th>3</th>\n",
       "      <td>4.573182e+13</td>\n",
       "      <td>2.767290e+12</td>\n",
       "      <td>0.060511</td>\n",
       "      <td>0.638978</td>\n",
       "      <td>1.3568</td>\n",
       "      <td>265.4196</td>\n",
       "      <td>NaN</td>\n",
       "      <td>471.9549</td>\n",
       "      <td>NaN</td>\n",
       "      <td>1.3550</td>\n",
       "      <td>...</td>\n",
       "      <td>1.967870e+11</td>\n",
       "      <td>4.591844e+13</td>\n",
       "      <td>4.622727e+13</td>\n",
       "      <td>5.911390e+11</td>\n",
       "      <td>4.954510e+11</td>\n",
       "      <td>4.532730e+13</td>\n",
       "      <td>2.369800e+12</td>\n",
       "      <td>NaN</td>\n",
       "      <td>NaN</td>\n",
       "      <td>NaN</td>\n",
       "    </tr>\n",
       "    <tr>\n",
       "      <th>4</th>\n",
       "      <td>-4.739843e+13</td>\n",
       "      <td>-1.610339e+14</td>\n",
       "      <td>3.397452</td>\n",
       "      <td>0.306068</td>\n",
       "      <td>NaN</td>\n",
       "      <td>0.8690</td>\n",
       "      <td>NaN</td>\n",
       "      <td>NaN</td>\n",
       "      <td>NaN</td>\n",
       "      <td>NaN</td>\n",
       "      <td>...</td>\n",
       "      <td>-7.346602e+13</td>\n",
       "      <td>1.371765e+14</td>\n",
       "      <td>1.371765e+14</td>\n",
       "      <td>1.845749e+14</td>\n",
       "      <td>1.845749e+14</td>\n",
       "      <td>-4.739843e+13</td>\n",
       "      <td>-1.610339e+14</td>\n",
       "      <td>4.607902e+12</td>\n",
       "      <td>1.666914e+12</td>\n",
       "      <td>4.607902e+12</td>\n",
       "    </tr>\n",
       "  </tbody>\n",
       "</table>\n",
       "<p>5 rows × 427 columns</p>\n",
       "</div>"
      ],
      "text/plain": [
       "         TSE_FY         RE_FY           y  Custom-Return    PtoB      PtoS  \\\n",
       "0  4.371690e+11 -1.348210e+14  308.395650      -0.046138     NaN       NaN   \n",
       "1 -1.125286e+15 -1.142159e+15    1.014995            NaN     NaN       NaN   \n",
       "2  1.995942e+15  2.536933e+14    0.127105       0.604888  1.1937    9.4587   \n",
       "3  4.573182e+13  2.767290e+12    0.060511       0.638978  1.3568  265.4196   \n",
       "4 -4.739843e+13 -1.610339e+14    3.397452       0.306068     NaN    0.8690   \n",
       "\n",
       "   PtoFCFF  PtoE_ttm  PtoFCFE  PtoNAV  ...         OP_FY        TA_MRQ  \\\n",
       "0      NaN       NaN      NaN     NaN  ...           NaN  5.781578e+14   \n",
       "1  48.5539       NaN  27.0587     NaN  ...           NaN  3.158876e+15   \n",
       "2      NaN   10.2428      NaN  0.8344  ...  2.219208e+14  1.895281e+15   \n",
       "3      NaN  471.9549      NaN  1.3550  ...  1.967870e+11  4.591844e+13   \n",
       "4      NaN       NaN      NaN     NaN  ... -7.346602e+13  1.371765e+14   \n",
       "\n",
       "          TA_FY        TL_MRQ         TL_FY       TSE_MRQ        RE_MRQ  \\\n",
       "0  5.709565e+14  6.205788e+14  5.705193e+14 -4.242109e+13 -1.731840e+14   \n",
       "1  3.158876e+15  4.284162e+15  4.284162e+15 -1.125286e+15 -1.142159e+15   \n",
       "2  2.053317e+15  1.231507e+14  5.737468e+13  1.772130e+15  2.437543e+13   \n",
       "3  4.622727e+13  5.911390e+11  4.954510e+11  4.532730e+13  2.369800e+12   \n",
       "4  1.371765e+14  1.845749e+14  1.845749e+14 -4.739843e+13 -1.610339e+14   \n",
       "\n",
       "         FE_TTM        FE_MRQ         FE_FY  \n",
       "0  7.986821e+12  4.155223e+12  1.144012e+12  \n",
       "1  8.043798e+13  3.522180e+13  8.043798e+13  \n",
       "2  1.652797e+13  8.066030e+12  1.119782e+13  \n",
       "3           NaN           NaN           NaN  \n",
       "4  4.607902e+12  1.666914e+12  4.607902e+12  \n",
       "\n",
       "[5 rows x 427 columns]"
      ]
     },
     "execution_count": 4,
     "metadata": {},
     "output_type": "execute_result"
    }
   ],
   "source": [
    "# convert all columns to float but Industry\n",
    "cols_to_float = df.columns.drop('Industry')\n",
    "df[cols_to_float] = df[cols_to_float].astype(float)\n",
    "df.head()"
   ]
  },
  {
   "cell_type": "code",
   "execution_count": 5,
   "metadata": {},
   "outputs": [
    {
     "name": "stdout",
     "output_type": "stream",
     "text": [
      "(820, 427)\n"
     ]
    }
   ],
   "source": [
    "# drop rows which has no value in TSE_FY or RE_FY column\n",
    "df = df.dropna(subset=['TSE_FY', 'RE_FY'])\n",
    "print(df.shape)"
   ]
  },
  {
   "cell_type": "code",
   "execution_count": 6,
   "metadata": {},
   "outputs": [
    {
     "name": "stdout",
     "output_type": "stream",
     "text": [
      "(390, 427)\n",
      "(430, 427)\n"
     ]
    }
   ],
   "source": [
    "print(df[df['y'] >= .5].shape)\n",
    "print(df[df['y'] < .5].shape)\n",
    "# drop y\n",
    "df = df.drop(columns=['y'])"
   ]
  },
  {
   "cell_type": "code",
   "execution_count": 7,
   "metadata": {},
   "outputs": [
    {
     "name": "stdout",
     "output_type": "stream",
     "text": [
      "(368, 427)\n",
      "(452, 427)\n"
     ]
    },
    {
     "name": "stderr",
     "output_type": "stream",
     "text": [
      "/tmp/ipykernel_76271/2617393261.py:2: PerformanceWarning: DataFrame is highly fragmented.  This is usually the result of calling `frame.insert` many times, which has poor performance.  Consider joining all columns at once using pd.concat(axis=1) instead. To get a de-fragmented frame, use `newframe = frame.copy()`\n",
      "  df['y'] = np.where(df['RE_FY'] / df['TSE_FY'] > .5, 1, 0)\n"
     ]
    }
   ],
   "source": [
    "# create a y column RE_FY / TSE_FY > .5 = 1 else 0\n",
    "df['y'] = np.where(df['RE_FY'] / df['TSE_FY'] > .5, 1, 0)\n",
    "print(df[df['y'] >= .5].shape)\n",
    "print(df[df['y'] < .5].shape)"
   ]
  },
  {
   "cell_type": "code",
   "execution_count": 8,
   "metadata": {},
   "outputs": [
    {
     "name": "stdout",
     "output_type": "stream",
     "text": [
      "TSE_FY           0.000000\n",
      "RE_FY            0.000000\n",
      "Custom-Return    0.175610\n",
      "PtoB             0.115854\n",
      "PtoS             0.125610\n",
      "                   ...   \n",
      "RE_MRQ           0.000000\n",
      "FE_TTM           0.286585\n",
      "FE_MRQ           0.295122\n",
      "FE_FY            0.273171\n",
      "y                0.000000\n",
      "Length: 427, dtype: float64\n"
     ]
    }
   ],
   "source": [
    "# print nan proportion\n",
    "print(df.isna().sum() / df.shape[0])"
   ]
  },
  {
   "cell_type": "code",
   "execution_count": 9,
   "metadata": {},
   "outputs": [
    {
     "name": "stdout",
     "output_type": "stream",
     "text": [
      "TSE_FY           0.0\n",
      "RE_FY            0.0\n",
      "Custom-Return    0.0\n",
      "PtoB             0.0\n",
      "PtoS             0.0\n",
      "                ... \n",
      "RE_MRQ           0.0\n",
      "FE_TTM           0.0\n",
      "FE_MRQ           0.0\n",
      "FE_FY            0.0\n",
      "y                0.0\n",
      "Length: 427, dtype: float64\n"
     ]
    }
   ],
   "source": [
    "# df = df.fillna(df.mean())\n",
    "# df = df.fillna(df.median())\n",
    "# df = df.fillna(df.mode().iloc[0])\n",
    "\n",
    "# fill NaN with 0\n",
    "df = df.fillna(0)\n",
    "\n",
    "print(df.isna().sum() / df.shape[0])"
   ]
  },
  {
   "cell_type": "code",
   "execution_count": 10,
   "metadata": {},
   "outputs": [
    {
     "data": {
      "text/html": [
       "<div>\n",
       "<style scoped>\n",
       "    .dataframe tbody tr th:only-of-type {\n",
       "        vertical-align: middle;\n",
       "    }\n",
       "\n",
       "    .dataframe tbody tr th {\n",
       "        vertical-align: top;\n",
       "    }\n",
       "\n",
       "    .dataframe thead th {\n",
       "        text-align: right;\n",
       "    }\n",
       "</style>\n",
       "<table border=\"1\" class=\"dataframe\">\n",
       "  <thead>\n",
       "    <tr style=\"text-align: right;\">\n",
       "      <th></th>\n",
       "      <th>TSE_FY</th>\n",
       "      <th>RE_FY</th>\n",
       "      <th>Custom-Return</th>\n",
       "      <th>PtoB</th>\n",
       "      <th>PtoS</th>\n",
       "      <th>PtoFCFF</th>\n",
       "      <th>PtoE_ttm</th>\n",
       "      <th>PtoFCFE</th>\n",
       "      <th>PtoNAV</th>\n",
       "      <th>PtoD</th>\n",
       "      <th>...</th>\n",
       "      <th>TA_MRQ</th>\n",
       "      <th>TA_FY</th>\n",
       "      <th>TL_MRQ</th>\n",
       "      <th>TL_FY</th>\n",
       "      <th>TSE_MRQ</th>\n",
       "      <th>RE_MRQ</th>\n",
       "      <th>FE_TTM</th>\n",
       "      <th>FE_MRQ</th>\n",
       "      <th>FE_FY</th>\n",
       "      <th>y</th>\n",
       "    </tr>\n",
       "  </thead>\n",
       "  <tbody>\n",
       "    <tr>\n",
       "      <th>0</th>\n",
       "      <td>0.360667</td>\n",
       "      <td>0.571374</td>\n",
       "      <td>4.482714e-07</td>\n",
       "      <td>0.000000</td>\n",
       "      <td>0.000000</td>\n",
       "      <td>0.000000</td>\n",
       "      <td>0.000000</td>\n",
       "      <td>0.000000</td>\n",
       "      <td>0.006307</td>\n",
       "      <td>0.000000</td>\n",
       "      <td>...</td>\n",
       "      <td>0.041453</td>\n",
       "      <td>0.040937</td>\n",
       "      <td>0.048209</td>\n",
       "      <td>0.044320</td>\n",
       "      <td>0.373735</td>\n",
       "      <td>0.549614</td>\n",
       "      <td>0.099292</td>\n",
       "      <td>0.117973</td>\n",
       "      <td>0.014222</td>\n",
       "      <td>0.0</td>\n",
       "    </tr>\n",
       "    <tr>\n",
       "      <th>1</th>\n",
       "      <td>0.000000</td>\n",
       "      <td>0.000000</td>\n",
       "      <td>4.953607e-07</td>\n",
       "      <td>0.000000</td>\n",
       "      <td>0.000000</td>\n",
       "      <td>0.000137</td>\n",
       "      <td>0.000000</td>\n",
       "      <td>0.000076</td>\n",
       "      <td>0.006307</td>\n",
       "      <td>0.015911</td>\n",
       "      <td>...</td>\n",
       "      <td>0.226490</td>\n",
       "      <td>0.226490</td>\n",
       "      <td>0.332808</td>\n",
       "      <td>0.332808</td>\n",
       "      <td>0.000000</td>\n",
       "      <td>0.000000</td>\n",
       "      <td>1.000000</td>\n",
       "      <td>1.000000</td>\n",
       "      <td>1.000000</td>\n",
       "      <td>1.0</td>\n",
       "    </tr>\n",
       "    <tr>\n",
       "      <th>2</th>\n",
       "      <td>1.000000</td>\n",
       "      <td>0.791744</td>\n",
       "      <td>1.112721e-06</td>\n",
       "      <td>0.000211</td>\n",
       "      <td>0.000018</td>\n",
       "      <td>0.000000</td>\n",
       "      <td>0.001280</td>\n",
       "      <td>0.000000</td>\n",
       "      <td>0.006455</td>\n",
       "      <td>0.000344</td>\n",
       "      <td>...</td>\n",
       "      <td>0.135891</td>\n",
       "      <td>0.147222</td>\n",
       "      <td>0.009567</td>\n",
       "      <td>0.004457</td>\n",
       "      <td>1.000000</td>\n",
       "      <td>0.661672</td>\n",
       "      <td>0.205475</td>\n",
       "      <td>0.229007</td>\n",
       "      <td>0.139211</td>\n",
       "      <td>0.0</td>\n",
       "    </tr>\n",
       "    <tr>\n",
       "      <th>3</th>\n",
       "      <td>0.375179</td>\n",
       "      <td>0.649416</td>\n",
       "      <td>1.147514e-06</td>\n",
       "      <td>0.000240</td>\n",
       "      <td>0.000513</td>\n",
       "      <td>0.000000</td>\n",
       "      <td>0.058967</td>\n",
       "      <td>0.000000</td>\n",
       "      <td>0.006548</td>\n",
       "      <td>0.012877</td>\n",
       "      <td>...</td>\n",
       "      <td>0.003291</td>\n",
       "      <td>0.003313</td>\n",
       "      <td>0.000046</td>\n",
       "      <td>0.000038</td>\n",
       "      <td>0.404020</td>\n",
       "      <td>0.649190</td>\n",
       "      <td>0.000000</td>\n",
       "      <td>0.000000</td>\n",
       "      <td>0.000000</td>\n",
       "      <td>0.0</td>\n",
       "    </tr>\n",
       "    <tr>\n",
       "      <th>4</th>\n",
       "      <td>0.345341</td>\n",
       "      <td>0.556506</td>\n",
       "      <td>8.077397e-07</td>\n",
       "      <td>0.000000</td>\n",
       "      <td>0.000002</td>\n",
       "      <td>0.000000</td>\n",
       "      <td>0.000000</td>\n",
       "      <td>0.000000</td>\n",
       "      <td>0.006307</td>\n",
       "      <td>0.000000</td>\n",
       "      <td>...</td>\n",
       "      <td>0.009835</td>\n",
       "      <td>0.009835</td>\n",
       "      <td>0.014338</td>\n",
       "      <td>0.014338</td>\n",
       "      <td>0.372017</td>\n",
       "      <td>0.556506</td>\n",
       "      <td>0.057285</td>\n",
       "      <td>0.047326</td>\n",
       "      <td>0.057285</td>\n",
       "      <td>1.0</td>\n",
       "    </tr>\n",
       "  </tbody>\n",
       "</table>\n",
       "<p>5 rows × 427 columns</p>\n",
       "</div>"
      ],
      "text/plain": [
       "     TSE_FY     RE_FY  Custom-Return      PtoB      PtoS   PtoFCFF  PtoE_ttm  \\\n",
       "0  0.360667  0.571374   4.482714e-07  0.000000  0.000000  0.000000  0.000000   \n",
       "1  0.000000  0.000000   4.953607e-07  0.000000  0.000000  0.000137  0.000000   \n",
       "2  1.000000  0.791744   1.112721e-06  0.000211  0.000018  0.000000  0.001280   \n",
       "3  0.375179  0.649416   1.147514e-06  0.000240  0.000513  0.000000  0.058967   \n",
       "4  0.345341  0.556506   8.077397e-07  0.000000  0.000002  0.000000  0.000000   \n",
       "\n",
       "    PtoFCFE    PtoNAV      PtoD  ...    TA_MRQ     TA_FY    TL_MRQ     TL_FY  \\\n",
       "0  0.000000  0.006307  0.000000  ...  0.041453  0.040937  0.048209  0.044320   \n",
       "1  0.000076  0.006307  0.015911  ...  0.226490  0.226490  0.332808  0.332808   \n",
       "2  0.000000  0.006455  0.000344  ...  0.135891  0.147222  0.009567  0.004457   \n",
       "3  0.000000  0.006548  0.012877  ...  0.003291  0.003313  0.000046  0.000038   \n",
       "4  0.000000  0.006307  0.000000  ...  0.009835  0.009835  0.014338  0.014338   \n",
       "\n",
       "    TSE_MRQ    RE_MRQ    FE_TTM    FE_MRQ     FE_FY    y  \n",
       "0  0.373735  0.549614  0.099292  0.117973  0.014222  0.0  \n",
       "1  0.000000  0.000000  1.000000  1.000000  1.000000  1.0  \n",
       "2  1.000000  0.661672  0.205475  0.229007  0.139211  0.0  \n",
       "3  0.404020  0.649190  0.000000  0.000000  0.000000  0.0  \n",
       "4  0.372017  0.556506  0.057285  0.047326  0.057285  1.0  \n",
       "\n",
       "[5 rows x 427 columns]"
      ]
     },
     "execution_count": 10,
     "metadata": {},
     "output_type": "execute_result"
    }
   ],
   "source": [
    "# Scaler\n",
    "scaler = MinMaxScaler()\n",
    "df = pd.DataFrame(scaler.fit_transform(df), columns=df.columns)\n",
    "df.head()"
   ]
  },
  {
   "cell_type": "code",
   "execution_count": 11,
   "metadata": {},
   "outputs": [
    {
     "name": "stdout",
     "output_type": "stream",
     "text": [
      "(574, 1, 426)\n",
      "(574,)\n",
      "------\n",
      "(123, 1, 426)\n",
      "(123,)\n",
      "------\n",
      "(123, 1, 426)\n",
      "(123,)\n"
     ]
    }
   ],
   "source": [
    "# split data\n",
    "x = df.drop(columns=['y'])\n",
    "y = df['y']\n",
    "x = np.array(x)\n",
    "y = np.array(y)\n",
    "# [samples, timesteps, features]\n",
    "x = x.reshape(x.shape[0], 1, x.shape[1])\n",
    "\n",
    "x_train = x[:int(x.shape[0] * .7)]\n",
    "y_train = y[:int(y.shape[0] * .7)]\n",
    "x_valid = x[int(x.shape[0] * .7):int(x.shape[0] * .85)]\n",
    "y_valid = y[int(y.shape[0] * .7):int(y.shape[0] * .85)]\n",
    "x_test = x[int(x.shape[0] * .85):]\n",
    "y_test = y[int(y.shape[0] * .85):]\n",
    "\n",
    "print(x_train.shape)\n",
    "print(y_train.shape)\n",
    "print(\"------\")\n",
    "print(x_valid.shape)\n",
    "print(y_valid.shape)\n",
    "print(\"------\")\n",
    "print(x_test.shape)\n",
    "print(y_test.shape)"
   ]
  },
  {
   "cell_type": "code",
   "execution_count": 12,
   "metadata": {},
   "outputs": [
    {
     "name": "stdout",
     "output_type": "stream",
     "text": [
      "(4592, 1, 426)\n",
      "(4592,)\n"
     ]
    }
   ],
   "source": [
    "# duplicate data\n",
    "DUPLICATE = 8\n",
    "x_train = np.repeat(x_train, DUPLICATE, axis=0)\n",
    "y_train = np.repeat(y_train, DUPLICATE, axis=0)\n",
    "print(x_train.shape)\n",
    "print(y_train.shape)"
   ]
  },
  {
   "cell_type": "code",
   "execution_count": 13,
   "metadata": {},
   "outputs": [
    {
     "name": "stdout",
     "output_type": "stream",
     "text": [
      "Model: \"sequential\"\n",
      "_________________________________________________________________\n",
      " Layer (type)                Output Shape              Param #   \n",
      "=================================================================\n",
      " lstm (LSTM)                 (None, 128)               284160    \n",
      "                                                                 \n",
      " dense (Dense)               (None, 1)                 129       \n",
      "                                                                 \n",
      "=================================================================\n",
      "Total params: 284289 (1.08 MB)\n",
      "Trainable params: 284289 (1.08 MB)\n",
      "Non-trainable params: 0 (0.00 Byte)\n",
      "_________________________________________________________________\n"
     ]
    }
   ],
   "source": [
    "# LSTM\n",
    "lstm = keras.Sequential()\n",
    "# lstm.add(keras.layers.LSTM(128, input_shape=(x_train.shape[1], x_train.shape[2]), return_sequences=True))\n",
    "lstm.add(keras.layers.LSTM(128, input_shape=(x_train.shape[1], x_train.shape[2])))\n",
    "lstm.add(keras.layers.Dense(1, activation='sigmoid'))\n",
    "lstm.compile(loss='binary_crossentropy', optimizer='adam', metrics=['accuracy'])\n",
    "lstm.summary()"
   ]
  },
  {
   "cell_type": "code",
   "execution_count": 14,
   "metadata": {},
   "outputs": [
    {
     "name": "stdout",
     "output_type": "stream",
     "text": [
      "Epoch 1/100\n",
      "72/72 [==============================] - 2s 7ms/step - loss: 0.6573 - accuracy: 0.6794 - val_loss: 0.6366 - val_accuracy: 0.6016\n",
      "Epoch 2/100\n",
      "72/72 [==============================] - 0s 3ms/step - loss: 0.6960 - accuracy: 0.5000 - val_loss: 0.6723 - val_accuracy: 0.5935\n",
      "Epoch 3/100\n",
      "72/72 [==============================] - 0s 3ms/step - loss: 0.6630 - accuracy: 0.6376 - val_loss: 0.6221 - val_accuracy: 0.8130\n",
      "Epoch 4/100\n",
      "72/72 [==============================] - 0s 3ms/step - loss: 0.6434 - accuracy: 0.6882 - val_loss: 0.5820 - val_accuracy: 0.6667\n",
      "Epoch 5/100\n",
      "72/72 [==============================] - 0s 3ms/step - loss: 0.6397 - accuracy: 0.6655 - val_loss: 0.5796 - val_accuracy: 0.6829\n",
      "Epoch 6/100\n",
      "72/72 [==============================] - 0s 3ms/step - loss: 0.6105 - accuracy: 0.7265 - val_loss: 0.5389 - val_accuracy: 0.7236\n",
      "Epoch 7/100\n",
      "72/72 [==============================] - 0s 3ms/step - loss: 0.5828 - accuracy: 0.7596 - val_loss: 0.5037 - val_accuracy: 0.7886\n",
      "Epoch 8/100\n",
      "72/72 [==============================] - 0s 3ms/step - loss: 0.5449 - accuracy: 0.7596 - val_loss: 0.4746 - val_accuracy: 0.8293\n",
      "Epoch 9/100\n",
      "72/72 [==============================] - 0s 3ms/step - loss: 0.5123 - accuracy: 0.7753 - val_loss: 0.4421 - val_accuracy: 0.8374\n",
      "Epoch 10/100\n",
      "72/72 [==============================] - 0s 3ms/step - loss: 0.4873 - accuracy: 0.7909 - val_loss: 0.4184 - val_accuracy: 0.8374\n",
      "Epoch 11/100\n",
      "72/72 [==============================] - 0s 3ms/step - loss: 0.4698 - accuracy: 0.8031 - val_loss: 0.4033 - val_accuracy: 0.8455\n",
      "Epoch 12/100\n",
      "72/72 [==============================] - 0s 3ms/step - loss: 0.4561 - accuracy: 0.8101 - val_loss: 0.3923 - val_accuracy: 0.8374\n",
      "Epoch 13/100\n",
      "72/72 [==============================] - 0s 3ms/step - loss: 0.4439 - accuracy: 0.8136 - val_loss: 0.3834 - val_accuracy: 0.8374\n",
      "Epoch 14/100\n",
      "72/72 [==============================] - 0s 3ms/step - loss: 0.4325 - accuracy: 0.8153 - val_loss: 0.3753 - val_accuracy: 0.8455\n",
      "Epoch 15/100\n",
      "72/72 [==============================] - 0s 3ms/step - loss: 0.4216 - accuracy: 0.8293 - val_loss: 0.3681 - val_accuracy: 0.8618\n",
      "Epoch 16/100\n",
      "72/72 [==============================] - 0s 3ms/step - loss: 0.4112 - accuracy: 0.8293 - val_loss: 0.3619 - val_accuracy: 0.8618\n",
      "Epoch 17/100\n",
      "72/72 [==============================] - 0s 3ms/step - loss: 0.4010 - accuracy: 0.8258 - val_loss: 0.3568 - val_accuracy: 0.8618\n",
      "Epoch 18/100\n",
      "72/72 [==============================] - 0s 3ms/step - loss: 0.3911 - accuracy: 0.8240 - val_loss: 0.3528 - val_accuracy: 0.8618\n",
      "Epoch 19/100\n",
      "72/72 [==============================] - 0s 3ms/step - loss: 0.3816 - accuracy: 0.8328 - val_loss: 0.3498 - val_accuracy: 0.8618\n",
      "Epoch 20/100\n",
      "72/72 [==============================] - 0s 3ms/step - loss: 0.3723 - accuracy: 0.8362 - val_loss: 0.3477 - val_accuracy: 0.8618\n",
      "Epoch 21/100\n",
      "72/72 [==============================] - 0s 3ms/step - loss: 0.3636 - accuracy: 0.8397 - val_loss: 0.3465 - val_accuracy: 0.8537\n",
      "Epoch 22/100\n",
      "72/72 [==============================] - 0s 3ms/step - loss: 0.3555 - accuracy: 0.8484 - val_loss: 0.3462 - val_accuracy: 0.8537\n",
      "Epoch 23/100\n",
      "72/72 [==============================] - 0s 3ms/step - loss: 0.3480 - accuracy: 0.8484 - val_loss: 0.3464 - val_accuracy: 0.8537\n",
      "Epoch 24/100\n",
      "72/72 [==============================] - 0s 3ms/step - loss: 0.3411 - accuracy: 0.8537 - val_loss: 0.3472 - val_accuracy: 0.8618\n",
      "Epoch 25/100\n",
      "72/72 [==============================] - 0s 3ms/step - loss: 0.3349 - accuracy: 0.8554 - val_loss: 0.3484 - val_accuracy: 0.8537\n",
      "Epoch 26/100\n",
      "72/72 [==============================] - 0s 3ms/step - loss: 0.3292 - accuracy: 0.8589 - val_loss: 0.3502 - val_accuracy: 0.8537\n",
      "Epoch 27/100\n",
      "72/72 [==============================] - 0s 3ms/step - loss: 0.3239 - accuracy: 0.8659 - val_loss: 0.3524 - val_accuracy: 0.8537\n",
      "Epoch 28/100\n",
      "72/72 [==============================] - 0s 3ms/step - loss: 0.3189 - accuracy: 0.8693 - val_loss: 0.3548 - val_accuracy: 0.8537\n",
      "Epoch 29/100\n",
      "72/72 [==============================] - 0s 3ms/step - loss: 0.3143 - accuracy: 0.8659 - val_loss: 0.3572 - val_accuracy: 0.8537\n",
      "Epoch 30/100\n",
      "72/72 [==============================] - 0s 3ms/step - loss: 0.3098 - accuracy: 0.8659 - val_loss: 0.3595 - val_accuracy: 0.8537\n",
      "Epoch 31/100\n",
      "72/72 [==============================] - 0s 3ms/step - loss: 0.3056 - accuracy: 0.8711 - val_loss: 0.3618 - val_accuracy: 0.8537\n",
      "Epoch 32/100\n",
      "72/72 [==============================] - 0s 3ms/step - loss: 0.3015 - accuracy: 0.8728 - val_loss: 0.3641 - val_accuracy: 0.8537\n",
      "Epoch 33/100\n",
      "72/72 [==============================] - 0s 3ms/step - loss: 0.2975 - accuracy: 0.8746 - val_loss: 0.3665 - val_accuracy: 0.8537\n",
      "Epoch 34/100\n",
      "72/72 [==============================] - 0s 3ms/step - loss: 0.2937 - accuracy: 0.8728 - val_loss: 0.3690 - val_accuracy: 0.8455\n",
      "Epoch 35/100\n",
      "72/72 [==============================] - 0s 3ms/step - loss: 0.2899 - accuracy: 0.8711 - val_loss: 0.3715 - val_accuracy: 0.8455\n",
      "Epoch 36/100\n",
      "72/72 [==============================] - 0s 3ms/step - loss: 0.2863 - accuracy: 0.8711 - val_loss: 0.3741 - val_accuracy: 0.8455\n",
      "Epoch 37/100\n",
      "72/72 [==============================] - 0s 3ms/step - loss: 0.2827 - accuracy: 0.8746 - val_loss: 0.3768 - val_accuracy: 0.8455\n",
      "Epoch 38/100\n",
      "72/72 [==============================] - 0s 3ms/step - loss: 0.2792 - accuracy: 0.8746 - val_loss: 0.3796 - val_accuracy: 0.8455\n",
      "Epoch 39/100\n",
      "72/72 [==============================] - 0s 3ms/step - loss: 0.2757 - accuracy: 0.8746 - val_loss: 0.3824 - val_accuracy: 0.8455\n",
      "Epoch 40/100\n",
      "72/72 [==============================] - 0s 3ms/step - loss: 0.2723 - accuracy: 0.8763 - val_loss: 0.3853 - val_accuracy: 0.8455\n",
      "Epoch 41/100\n",
      "72/72 [==============================] - 0s 3ms/step - loss: 0.2690 - accuracy: 0.8798 - val_loss: 0.3882 - val_accuracy: 0.8455\n",
      "Epoch 42/100\n",
      "72/72 [==============================] - 0s 3ms/step - loss: 0.2657 - accuracy: 0.8815 - val_loss: 0.3913 - val_accuracy: 0.8455\n",
      "Epoch 43/100\n",
      "72/72 [==============================] - 0s 3ms/step - loss: 0.2625 - accuracy: 0.8868 - val_loss: 0.3944 - val_accuracy: 0.8374\n",
      "Epoch 44/100\n",
      "72/72 [==============================] - 0s 3ms/step - loss: 0.2593 - accuracy: 0.8868 - val_loss: 0.3975 - val_accuracy: 0.8374\n",
      "Epoch 45/100\n",
      "72/72 [==============================] - 0s 3ms/step - loss: 0.2561 - accuracy: 0.8902 - val_loss: 0.4008 - val_accuracy: 0.8374\n",
      "Epoch 46/100\n",
      "72/72 [==============================] - 0s 3ms/step - loss: 0.2530 - accuracy: 0.8920 - val_loss: 0.4041 - val_accuracy: 0.8374\n",
      "Epoch 47/100\n",
      "72/72 [==============================] - 0s 3ms/step - loss: 0.2500 - accuracy: 0.8955 - val_loss: 0.4075 - val_accuracy: 0.8374\n",
      "Epoch 48/100\n",
      "72/72 [==============================] - 0s 3ms/step - loss: 0.2469 - accuracy: 0.8972 - val_loss: 0.4111 - val_accuracy: 0.8537\n",
      "Epoch 49/100\n",
      "72/72 [==============================] - 0s 3ms/step - loss: 0.2439 - accuracy: 0.8990 - val_loss: 0.4147 - val_accuracy: 0.8537\n",
      "Epoch 50/100\n",
      "72/72 [==============================] - 0s 3ms/step - loss: 0.2409 - accuracy: 0.9007 - val_loss: 0.4185 - val_accuracy: 0.8455\n",
      "Epoch 51/100\n",
      "72/72 [==============================] - 0s 3ms/step - loss: 0.2380 - accuracy: 0.9059 - val_loss: 0.4225 - val_accuracy: 0.8374\n",
      "Epoch 52/100\n",
      "72/72 [==============================] - 0s 3ms/step - loss: 0.2351 - accuracy: 0.9042 - val_loss: 0.4265 - val_accuracy: 0.8293\n",
      "Epoch 53/100\n",
      "72/72 [==============================] - 0s 3ms/step - loss: 0.2322 - accuracy: 0.9024 - val_loss: 0.4307 - val_accuracy: 0.8293\n",
      "Epoch 54/100\n",
      "72/72 [==============================] - 0s 3ms/step - loss: 0.2294 - accuracy: 0.9024 - val_loss: 0.4351 - val_accuracy: 0.8293\n",
      "Epoch 55/100\n",
      "72/72 [==============================] - 0s 3ms/step - loss: 0.2266 - accuracy: 0.9094 - val_loss: 0.4395 - val_accuracy: 0.8293\n",
      "Epoch 56/100\n",
      "72/72 [==============================] - 0s 3ms/step - loss: 0.2239 - accuracy: 0.9129 - val_loss: 0.4440 - val_accuracy: 0.8293\n",
      "Epoch 57/100\n",
      "72/72 [==============================] - 0s 3ms/step - loss: 0.2212 - accuracy: 0.9181 - val_loss: 0.4486 - val_accuracy: 0.8374\n",
      "Epoch 58/100\n",
      "72/72 [==============================] - 0s 3ms/step - loss: 0.2185 - accuracy: 0.9199 - val_loss: 0.4533 - val_accuracy: 0.8374\n",
      "Epoch 59/100\n",
      "72/72 [==============================] - 0s 3ms/step - loss: 0.2158 - accuracy: 0.9233 - val_loss: 0.4580 - val_accuracy: 0.8374\n",
      "Epoch 60/100\n",
      "72/72 [==============================] - 0s 3ms/step - loss: 0.2132 - accuracy: 0.9233 - val_loss: 0.4629 - val_accuracy: 0.8293\n",
      "Epoch 61/100\n",
      "72/72 [==============================] - 0s 4ms/step - loss: 0.2107 - accuracy: 0.9233 - val_loss: 0.4677 - val_accuracy: 0.8293\n",
      "Epoch 62/100\n",
      "72/72 [==============================] - 0s 3ms/step - loss: 0.2081 - accuracy: 0.9216 - val_loss: 0.4727 - val_accuracy: 0.8293\n",
      "Epoch 63/100\n",
      "72/72 [==============================] - 0s 3ms/step - loss: 0.2056 - accuracy: 0.9233 - val_loss: 0.4778 - val_accuracy: 0.8293\n",
      "Epoch 64/100\n",
      "72/72 [==============================] - 0s 3ms/step - loss: 0.2031 - accuracy: 0.9251 - val_loss: 0.4831 - val_accuracy: 0.8293\n",
      "Epoch 65/100\n",
      "72/72 [==============================] - 0s 3ms/step - loss: 0.2006 - accuracy: 0.9268 - val_loss: 0.4885 - val_accuracy: 0.8293\n",
      "Epoch 66/100\n",
      "72/72 [==============================] - 0s 3ms/step - loss: 0.1982 - accuracy: 0.9268 - val_loss: 0.4940 - val_accuracy: 0.8211\n",
      "Epoch 67/100\n",
      "72/72 [==============================] - 0s 3ms/step - loss: 0.1958 - accuracy: 0.9268 - val_loss: 0.4998 - val_accuracy: 0.8293\n",
      "Epoch 68/100\n",
      "72/72 [==============================] - 0s 3ms/step - loss: 0.1934 - accuracy: 0.9268 - val_loss: 0.5058 - val_accuracy: 0.8293\n",
      "Epoch 69/100\n",
      "72/72 [==============================] - 0s 3ms/step - loss: 0.1910 - accuracy: 0.9321 - val_loss: 0.5120 - val_accuracy: 0.8293\n",
      "Epoch 70/100\n",
      "72/72 [==============================] - 0s 3ms/step - loss: 0.1886 - accuracy: 0.9321 - val_loss: 0.5183 - val_accuracy: 0.8293\n",
      "Epoch 71/100\n",
      "72/72 [==============================] - 0s 3ms/step - loss: 0.1863 - accuracy: 0.9321 - val_loss: 0.5248 - val_accuracy: 0.8293\n",
      "Epoch 72/100\n",
      "72/72 [==============================] - 0s 3ms/step - loss: 0.1840 - accuracy: 0.9321 - val_loss: 0.5315 - val_accuracy: 0.8293\n",
      "Epoch 73/100\n",
      "72/72 [==============================] - 0s 3ms/step - loss: 0.1817 - accuracy: 0.9338 - val_loss: 0.5383 - val_accuracy: 0.8293\n",
      "Epoch 74/100\n",
      "72/72 [==============================] - 0s 3ms/step - loss: 0.1794 - accuracy: 0.9373 - val_loss: 0.5453 - val_accuracy: 0.8293\n",
      "Epoch 75/100\n",
      "72/72 [==============================] - 0s 3ms/step - loss: 0.1771 - accuracy: 0.9373 - val_loss: 0.5524 - val_accuracy: 0.8293\n",
      "Epoch 76/100\n",
      "72/72 [==============================] - 0s 3ms/step - loss: 0.1748 - accuracy: 0.9425 - val_loss: 0.5598 - val_accuracy: 0.8293\n",
      "Epoch 77/100\n",
      "72/72 [==============================] - 0s 3ms/step - loss: 0.1726 - accuracy: 0.9425 - val_loss: 0.5673 - val_accuracy: 0.8293\n",
      "Epoch 78/100\n",
      "72/72 [==============================] - 0s 3ms/step - loss: 0.1704 - accuracy: 0.9443 - val_loss: 0.5750 - val_accuracy: 0.8293\n",
      "Epoch 79/100\n",
      "72/72 [==============================] - 0s 3ms/step - loss: 0.1682 - accuracy: 0.9460 - val_loss: 0.5829 - val_accuracy: 0.8130\n",
      "Epoch 80/100\n",
      "72/72 [==============================] - 0s 3ms/step - loss: 0.1660 - accuracy: 0.9512 - val_loss: 0.5909 - val_accuracy: 0.8130\n",
      "Epoch 81/100\n",
      "72/72 [==============================] - 0s 3ms/step - loss: 0.1638 - accuracy: 0.9512 - val_loss: 0.5991 - val_accuracy: 0.8130\n",
      "Epoch 82/100\n",
      "72/72 [==============================] - 0s 3ms/step - loss: 0.1616 - accuracy: 0.9512 - val_loss: 0.6075 - val_accuracy: 0.8130\n",
      "Epoch 83/100\n",
      "72/72 [==============================] - 0s 3ms/step - loss: 0.1594 - accuracy: 0.9547 - val_loss: 0.6159 - val_accuracy: 0.8130\n",
      "Epoch 84/100\n",
      "72/72 [==============================] - 0s 4ms/step - loss: 0.1573 - accuracy: 0.9564 - val_loss: 0.6245 - val_accuracy: 0.8049\n",
      "Epoch 85/100\n",
      "72/72 [==============================] - 0s 3ms/step - loss: 0.1552 - accuracy: 0.9582 - val_loss: 0.6332 - val_accuracy: 0.8049\n",
      "Epoch 86/100\n",
      "72/72 [==============================] - 0s 3ms/step - loss: 0.1531 - accuracy: 0.9582 - val_loss: 0.6420 - val_accuracy: 0.8130\n",
      "Epoch 87/100\n",
      "72/72 [==============================] - 0s 3ms/step - loss: 0.1510 - accuracy: 0.9582 - val_loss: 0.6508 - val_accuracy: 0.8130\n",
      "Epoch 88/100\n",
      "72/72 [==============================] - 0s 3ms/step - loss: 0.1489 - accuracy: 0.9582 - val_loss: 0.6599 - val_accuracy: 0.8130\n",
      "Epoch 89/100\n",
      "72/72 [==============================] - 0s 3ms/step - loss: 0.1468 - accuracy: 0.9599 - val_loss: 0.6691 - val_accuracy: 0.8130\n",
      "Epoch 90/100\n",
      "72/72 [==============================] - 0s 3ms/step - loss: 0.1448 - accuracy: 0.9599 - val_loss: 0.6785 - val_accuracy: 0.8130\n",
      "Epoch 91/100\n",
      "72/72 [==============================] - 0s 3ms/step - loss: 0.1428 - accuracy: 0.9599 - val_loss: 0.6882 - val_accuracy: 0.8130\n",
      "Epoch 92/100\n",
      "72/72 [==============================] - 0s 3ms/step - loss: 0.1408 - accuracy: 0.9599 - val_loss: 0.6982 - val_accuracy: 0.8049\n",
      "Epoch 93/100\n",
      "72/72 [==============================] - 0s 3ms/step - loss: 0.1388 - accuracy: 0.9599 - val_loss: 0.7085 - val_accuracy: 0.8049\n",
      "Epoch 94/100\n",
      "72/72 [==============================] - 0s 3ms/step - loss: 0.1368 - accuracy: 0.9599 - val_loss: 0.7191 - val_accuracy: 0.8049\n",
      "Epoch 95/100\n",
      "72/72 [==============================] - 0s 3ms/step - loss: 0.1349 - accuracy: 0.9599 - val_loss: 0.7300 - val_accuracy: 0.8130\n",
      "Epoch 96/100\n",
      "72/72 [==============================] - 0s 3ms/step - loss: 0.1330 - accuracy: 0.9599 - val_loss: 0.7410 - val_accuracy: 0.8130\n",
      "Epoch 97/100\n",
      "72/72 [==============================] - 0s 3ms/step - loss: 0.1311 - accuracy: 0.9599 - val_loss: 0.7523 - val_accuracy: 0.8130\n",
      "Epoch 98/100\n",
      "72/72 [==============================] - 0s 3ms/step - loss: 0.1292 - accuracy: 0.9599 - val_loss: 0.7636 - val_accuracy: 0.8130\n",
      "Epoch 99/100\n",
      "72/72 [==============================] - 0s 3ms/step - loss: 0.1273 - accuracy: 0.9617 - val_loss: 0.7752 - val_accuracy: 0.8130\n",
      "Epoch 100/100\n",
      "72/72 [==============================] - 0s 3ms/step - loss: 0.1255 - accuracy: 0.9617 - val_loss: 0.7869 - val_accuracy: 0.8130\n"
     ]
    }
   ],
   "source": [
    "# train\n",
    "history = lstm.fit(x_train, y_train, epochs=100, batch_size=64, validation_data=(x_valid, y_valid), shuffle=False)\n",
    "# with no validation\n",
    "# history = lstm.fit(x_train, y_train, epochs=100, batch_size=32, shuffle=False)"
   ]
  },
  {
   "cell_type": "code",
   "execution_count": 15,
   "metadata": {},
   "outputs": [
    {
     "name": "stdout",
     "output_type": "stream",
     "text": [
      "4/4 [==============================] - 0s 2ms/step - loss: 1.6016 - accuracy: 0.6585\n",
      "[1.6015721559524536, 0.6585366129875183]\n"
     ]
    }
   ],
   "source": [
    "# prin results\n",
    "results = lstm.evaluate(x_test, y_test)\n",
    "print(results)"
   ]
  },
  {
   "cell_type": "code",
   "execution_count": 19,
   "metadata": {},
   "outputs": [
    {
     "data": {
      "application/vnd.plotly.v1+json": {
       "config": {
        "plotlyServerURL": "https://plot.ly"
       },
       "data": [
        {
         "mode": "lines",
         "name": "loss",
         "type": "scatter",
         "y": [
          0.6572571992874146,
          0.6960429549217224,
          0.6629555225372314,
          0.6433796286582947,
          0.6396805047988892,
          0.6105221509933472,
          0.5827510356903076,
          0.5449099540710449,
          0.5123037695884705,
          0.487252414226532,
          0.46975091099739075,
          0.45605728030204773,
          0.44385334849357605,
          0.43245330452919006,
          0.4216185212135315,
          0.4111817181110382,
          0.40102651715278625,
          0.39113783836364746,
          0.38155031204223633,
          0.3723333775997162,
          0.36360058188438416,
          0.3554629683494568,
          0.347979336977005,
          0.34114381670951843,
          0.3349013328552246,
          0.3291720747947693,
          0.323871374130249,
          0.31892114877700806,
          0.3142545223236084,
          0.3098178207874298,
          0.305569589138031,
          0.3014787435531616,
          0.29752063751220703,
          0.29367595911026,
          0.28992992639541626,
          0.2862706482410431,
          0.28268900513648987,
          0.27917763590812683,
          0.27573075890541077,
          0.27234312891960144,
          0.26901036500930786,
          0.2657279372215271,
          0.26249200105667114,
          0.2592991888523102,
          0.2561469078063965,
          0.253032922744751,
          0.2499558925628662,
          0.24691493809223175,
          0.2439091056585312,
          0.24093779921531677,
          0.23800112307071686,
          0.2350994199514389,
          0.23223403096199036,
          0.22940592467784882,
          0.22661598026752472,
          0.2238643765449524,
          0.2211506962776184,
          0.2184741199016571,
          0.21583320200443268,
          0.2132263332605362,
          0.2106514871120453,
          0.2081066220998764,
          0.20558984577655792,
          0.2030993402004242,
          0.20063361525535583,
          0.19819127023220062,
          0.19577114284038544,
          0.19337229430675507,
          0.1909935623407364,
          0.1886342465877533,
          0.18629342317581177,
          0.1839703619480133,
          0.1816643923521042,
          0.17937476933002472,
          0.1771009862422943,
          0.17484256625175476,
          0.17259898781776428,
          0.1703699827194214,
          0.16815534234046936,
          0.1659547984600067,
          0.16376832127571106,
          0.16159595549106598,
          0.15943790972232819,
          0.15729458630084991,
          0.15516655147075653,
          0.1530546098947525,
          0.15095944702625275,
          0.14888212084770203,
          0.14682340621948242,
          0.144784078001976,
          0.142764613032341,
          0.14076510071754456,
          0.13878555595874786,
          0.1368257701396942,
          0.13488516211509705,
          0.1329634040594101,
          0.13106054067611694,
          0.1291775107383728,
          0.1273157149553299,
          0.12547607719898224
         ]
        },
        {
         "mode": "lines",
         "name": "val_loss",
         "type": "scatter",
         "y": [
          0.6366451978683472,
          0.6723471283912659,
          0.6220781207084656,
          0.5820105075836182,
          0.5796236991882324,
          0.5388796329498291,
          0.5036669373512268,
          0.47456759214401245,
          0.44205906987190247,
          0.41842585802078247,
          0.403295636177063,
          0.3923366963863373,
          0.3833790123462677,
          0.37533557415008545,
          0.36807531118392944,
          0.36190685629844666,
          0.35680750012397766,
          0.3528492748737335,
          0.34981784224510193,
          0.3476868271827698,
          0.34651753306388855,
          0.34617483615875244,
          0.34641730785369873,
          0.3471558690071106,
          0.3484281301498413,
          0.35023412108421326,
          0.3524458408355713,
          0.35484129190444946,
          0.3572264313697815,
          0.3595387041568756,
          0.3618184030056,
          0.36412644386291504,
          0.3665037453174591,
          0.36896559596061707,
          0.37151026725769043,
          0.3741299510002136,
          0.3768182098865509,
          0.37957310676574707,
          0.38239529728889465,
          0.38528552651405334,
          0.38824382424354553,
          0.3912705183029175,
          0.3943670094013214,
          0.39753636717796326,
          0.4007832705974579,
          0.40411484241485596,
          0.4075416922569275,
          0.4110778570175171,
          0.4147379398345947,
          0.4185328185558319,
          0.4224669933319092,
          0.4265379309654236,
          0.43073904514312744,
          0.4350605905056,
          0.4394907057285309,
          0.44401630759239197,
          0.4486239552497864,
          0.4533027708530426,
          0.4580466151237488,
          0.4628574550151825,
          0.46774542331695557,
          0.4727272093296051,
          0.47782328724861145,
          0.4830561876296997,
          0.48845046758651733,
          0.49402952194213867,
          0.4998096227645874,
          0.5057936906814575,
          0.5119714140892029,
          0.5183255076408386,
          0.5248400568962097,
          0.531505823135376,
          0.5383234024047852,
          0.5453004837036133,
          0.5524481534957886,
          0.559776246547699,
          0.5672897696495056,
          0.5749884843826294,
          0.5828670263290405,
          0.590915322303772,
          0.5991197228431702,
          0.6074640154838562,
          0.6159310936927795,
          0.6245061755180359,
          0.6331804990768433,
          0.6419546604156494,
          0.6508417129516602,
          0.6598674654960632,
          0.6690695881843567,
          0.6784952282905579,
          0.6881953477859497,
          0.698208212852478,
          0.7085362672805786,
          0.7191433906555176,
          0.7299854159355164,
          0.7410306334495544,
          0.7522522211074829,
          0.7636303305625916,
          0.7751545310020447,
          0.7868834137916565
         ]
        }
       ],
       "layout": {
        "template": {
         "data": {
          "bar": [
           {
            "error_x": {
             "color": "#2a3f5f"
            },
            "error_y": {
             "color": "#2a3f5f"
            },
            "marker": {
             "line": {
              "color": "#E5ECF6",
              "width": 0.5
             },
             "pattern": {
              "fillmode": "overlay",
              "size": 10,
              "solidity": 0.2
             }
            },
            "type": "bar"
           }
          ],
          "barpolar": [
           {
            "marker": {
             "line": {
              "color": "#E5ECF6",
              "width": 0.5
             },
             "pattern": {
              "fillmode": "overlay",
              "size": 10,
              "solidity": 0.2
             }
            },
            "type": "barpolar"
           }
          ],
          "carpet": [
           {
            "aaxis": {
             "endlinecolor": "#2a3f5f",
             "gridcolor": "white",
             "linecolor": "white",
             "minorgridcolor": "white",
             "startlinecolor": "#2a3f5f"
            },
            "baxis": {
             "endlinecolor": "#2a3f5f",
             "gridcolor": "white",
             "linecolor": "white",
             "minorgridcolor": "white",
             "startlinecolor": "#2a3f5f"
            },
            "type": "carpet"
           }
          ],
          "choropleth": [
           {
            "colorbar": {
             "outlinewidth": 0,
             "ticks": ""
            },
            "type": "choropleth"
           }
          ],
          "contour": [
           {
            "colorbar": {
             "outlinewidth": 0,
             "ticks": ""
            },
            "colorscale": [
             [
              0,
              "#0d0887"
             ],
             [
              0.1111111111111111,
              "#46039f"
             ],
             [
              0.2222222222222222,
              "#7201a8"
             ],
             [
              0.3333333333333333,
              "#9c179e"
             ],
             [
              0.4444444444444444,
              "#bd3786"
             ],
             [
              0.5555555555555556,
              "#d8576b"
             ],
             [
              0.6666666666666666,
              "#ed7953"
             ],
             [
              0.7777777777777778,
              "#fb9f3a"
             ],
             [
              0.8888888888888888,
              "#fdca26"
             ],
             [
              1,
              "#f0f921"
             ]
            ],
            "type": "contour"
           }
          ],
          "contourcarpet": [
           {
            "colorbar": {
             "outlinewidth": 0,
             "ticks": ""
            },
            "type": "contourcarpet"
           }
          ],
          "heatmap": [
           {
            "colorbar": {
             "outlinewidth": 0,
             "ticks": ""
            },
            "colorscale": [
             [
              0,
              "#0d0887"
             ],
             [
              0.1111111111111111,
              "#46039f"
             ],
             [
              0.2222222222222222,
              "#7201a8"
             ],
             [
              0.3333333333333333,
              "#9c179e"
             ],
             [
              0.4444444444444444,
              "#bd3786"
             ],
             [
              0.5555555555555556,
              "#d8576b"
             ],
             [
              0.6666666666666666,
              "#ed7953"
             ],
             [
              0.7777777777777778,
              "#fb9f3a"
             ],
             [
              0.8888888888888888,
              "#fdca26"
             ],
             [
              1,
              "#f0f921"
             ]
            ],
            "type": "heatmap"
           }
          ],
          "heatmapgl": [
           {
            "colorbar": {
             "outlinewidth": 0,
             "ticks": ""
            },
            "colorscale": [
             [
              0,
              "#0d0887"
             ],
             [
              0.1111111111111111,
              "#46039f"
             ],
             [
              0.2222222222222222,
              "#7201a8"
             ],
             [
              0.3333333333333333,
              "#9c179e"
             ],
             [
              0.4444444444444444,
              "#bd3786"
             ],
             [
              0.5555555555555556,
              "#d8576b"
             ],
             [
              0.6666666666666666,
              "#ed7953"
             ],
             [
              0.7777777777777778,
              "#fb9f3a"
             ],
             [
              0.8888888888888888,
              "#fdca26"
             ],
             [
              1,
              "#f0f921"
             ]
            ],
            "type": "heatmapgl"
           }
          ],
          "histogram": [
           {
            "marker": {
             "pattern": {
              "fillmode": "overlay",
              "size": 10,
              "solidity": 0.2
             }
            },
            "type": "histogram"
           }
          ],
          "histogram2d": [
           {
            "colorbar": {
             "outlinewidth": 0,
             "ticks": ""
            },
            "colorscale": [
             [
              0,
              "#0d0887"
             ],
             [
              0.1111111111111111,
              "#46039f"
             ],
             [
              0.2222222222222222,
              "#7201a8"
             ],
             [
              0.3333333333333333,
              "#9c179e"
             ],
             [
              0.4444444444444444,
              "#bd3786"
             ],
             [
              0.5555555555555556,
              "#d8576b"
             ],
             [
              0.6666666666666666,
              "#ed7953"
             ],
             [
              0.7777777777777778,
              "#fb9f3a"
             ],
             [
              0.8888888888888888,
              "#fdca26"
             ],
             [
              1,
              "#f0f921"
             ]
            ],
            "type": "histogram2d"
           }
          ],
          "histogram2dcontour": [
           {
            "colorbar": {
             "outlinewidth": 0,
             "ticks": ""
            },
            "colorscale": [
             [
              0,
              "#0d0887"
             ],
             [
              0.1111111111111111,
              "#46039f"
             ],
             [
              0.2222222222222222,
              "#7201a8"
             ],
             [
              0.3333333333333333,
              "#9c179e"
             ],
             [
              0.4444444444444444,
              "#bd3786"
             ],
             [
              0.5555555555555556,
              "#d8576b"
             ],
             [
              0.6666666666666666,
              "#ed7953"
             ],
             [
              0.7777777777777778,
              "#fb9f3a"
             ],
             [
              0.8888888888888888,
              "#fdca26"
             ],
             [
              1,
              "#f0f921"
             ]
            ],
            "type": "histogram2dcontour"
           }
          ],
          "mesh3d": [
           {
            "colorbar": {
             "outlinewidth": 0,
             "ticks": ""
            },
            "type": "mesh3d"
           }
          ],
          "parcoords": [
           {
            "line": {
             "colorbar": {
              "outlinewidth": 0,
              "ticks": ""
             }
            },
            "type": "parcoords"
           }
          ],
          "pie": [
           {
            "automargin": true,
            "type": "pie"
           }
          ],
          "scatter": [
           {
            "fillpattern": {
             "fillmode": "overlay",
             "size": 10,
             "solidity": 0.2
            },
            "type": "scatter"
           }
          ],
          "scatter3d": [
           {
            "line": {
             "colorbar": {
              "outlinewidth": 0,
              "ticks": ""
             }
            },
            "marker": {
             "colorbar": {
              "outlinewidth": 0,
              "ticks": ""
             }
            },
            "type": "scatter3d"
           }
          ],
          "scattercarpet": [
           {
            "marker": {
             "colorbar": {
              "outlinewidth": 0,
              "ticks": ""
             }
            },
            "type": "scattercarpet"
           }
          ],
          "scattergeo": [
           {
            "marker": {
             "colorbar": {
              "outlinewidth": 0,
              "ticks": ""
             }
            },
            "type": "scattergeo"
           }
          ],
          "scattergl": [
           {
            "marker": {
             "colorbar": {
              "outlinewidth": 0,
              "ticks": ""
             }
            },
            "type": "scattergl"
           }
          ],
          "scattermapbox": [
           {
            "marker": {
             "colorbar": {
              "outlinewidth": 0,
              "ticks": ""
             }
            },
            "type": "scattermapbox"
           }
          ],
          "scatterpolar": [
           {
            "marker": {
             "colorbar": {
              "outlinewidth": 0,
              "ticks": ""
             }
            },
            "type": "scatterpolar"
           }
          ],
          "scatterpolargl": [
           {
            "marker": {
             "colorbar": {
              "outlinewidth": 0,
              "ticks": ""
             }
            },
            "type": "scatterpolargl"
           }
          ],
          "scatterternary": [
           {
            "marker": {
             "colorbar": {
              "outlinewidth": 0,
              "ticks": ""
             }
            },
            "type": "scatterternary"
           }
          ],
          "surface": [
           {
            "colorbar": {
             "outlinewidth": 0,
             "ticks": ""
            },
            "colorscale": [
             [
              0,
              "#0d0887"
             ],
             [
              0.1111111111111111,
              "#46039f"
             ],
             [
              0.2222222222222222,
              "#7201a8"
             ],
             [
              0.3333333333333333,
              "#9c179e"
             ],
             [
              0.4444444444444444,
              "#bd3786"
             ],
             [
              0.5555555555555556,
              "#d8576b"
             ],
             [
              0.6666666666666666,
              "#ed7953"
             ],
             [
              0.7777777777777778,
              "#fb9f3a"
             ],
             [
              0.8888888888888888,
              "#fdca26"
             ],
             [
              1,
              "#f0f921"
             ]
            ],
            "type": "surface"
           }
          ],
          "table": [
           {
            "cells": {
             "fill": {
              "color": "#EBF0F8"
             },
             "line": {
              "color": "white"
             }
            },
            "header": {
             "fill": {
              "color": "#C8D4E3"
             },
             "line": {
              "color": "white"
             }
            },
            "type": "table"
           }
          ]
         },
         "layout": {
          "annotationdefaults": {
           "arrowcolor": "#2a3f5f",
           "arrowhead": 0,
           "arrowwidth": 1
          },
          "autotypenumbers": "strict",
          "coloraxis": {
           "colorbar": {
            "outlinewidth": 0,
            "ticks": ""
           }
          },
          "colorscale": {
           "diverging": [
            [
             0,
             "#8e0152"
            ],
            [
             0.1,
             "#c51b7d"
            ],
            [
             0.2,
             "#de77ae"
            ],
            [
             0.3,
             "#f1b6da"
            ],
            [
             0.4,
             "#fde0ef"
            ],
            [
             0.5,
             "#f7f7f7"
            ],
            [
             0.6,
             "#e6f5d0"
            ],
            [
             0.7,
             "#b8e186"
            ],
            [
             0.8,
             "#7fbc41"
            ],
            [
             0.9,
             "#4d9221"
            ],
            [
             1,
             "#276419"
            ]
           ],
           "sequential": [
            [
             0,
             "#0d0887"
            ],
            [
             0.1111111111111111,
             "#46039f"
            ],
            [
             0.2222222222222222,
             "#7201a8"
            ],
            [
             0.3333333333333333,
             "#9c179e"
            ],
            [
             0.4444444444444444,
             "#bd3786"
            ],
            [
             0.5555555555555556,
             "#d8576b"
            ],
            [
             0.6666666666666666,
             "#ed7953"
            ],
            [
             0.7777777777777778,
             "#fb9f3a"
            ],
            [
             0.8888888888888888,
             "#fdca26"
            ],
            [
             1,
             "#f0f921"
            ]
           ],
           "sequentialminus": [
            [
             0,
             "#0d0887"
            ],
            [
             0.1111111111111111,
             "#46039f"
            ],
            [
             0.2222222222222222,
             "#7201a8"
            ],
            [
             0.3333333333333333,
             "#9c179e"
            ],
            [
             0.4444444444444444,
             "#bd3786"
            ],
            [
             0.5555555555555556,
             "#d8576b"
            ],
            [
             0.6666666666666666,
             "#ed7953"
            ],
            [
             0.7777777777777778,
             "#fb9f3a"
            ],
            [
             0.8888888888888888,
             "#fdca26"
            ],
            [
             1,
             "#f0f921"
            ]
           ]
          },
          "colorway": [
           "#636efa",
           "#EF553B",
           "#00cc96",
           "#ab63fa",
           "#FFA15A",
           "#19d3f3",
           "#FF6692",
           "#B6E880",
           "#FF97FF",
           "#FECB52"
          ],
          "font": {
           "color": "#2a3f5f"
          },
          "geo": {
           "bgcolor": "white",
           "lakecolor": "white",
           "landcolor": "#E5ECF6",
           "showlakes": true,
           "showland": true,
           "subunitcolor": "white"
          },
          "hoverlabel": {
           "align": "left"
          },
          "hovermode": "closest",
          "mapbox": {
           "style": "light"
          },
          "paper_bgcolor": "white",
          "plot_bgcolor": "#E5ECF6",
          "polar": {
           "angularaxis": {
            "gridcolor": "white",
            "linecolor": "white",
            "ticks": ""
           },
           "bgcolor": "#E5ECF6",
           "radialaxis": {
            "gridcolor": "white",
            "linecolor": "white",
            "ticks": ""
           }
          },
          "scene": {
           "xaxis": {
            "backgroundcolor": "#E5ECF6",
            "gridcolor": "white",
            "gridwidth": 2,
            "linecolor": "white",
            "showbackground": true,
            "ticks": "",
            "zerolinecolor": "white"
           },
           "yaxis": {
            "backgroundcolor": "#E5ECF6",
            "gridcolor": "white",
            "gridwidth": 2,
            "linecolor": "white",
            "showbackground": true,
            "ticks": "",
            "zerolinecolor": "white"
           },
           "zaxis": {
            "backgroundcolor": "#E5ECF6",
            "gridcolor": "white",
            "gridwidth": 2,
            "linecolor": "white",
            "showbackground": true,
            "ticks": "",
            "zerolinecolor": "white"
           }
          },
          "shapedefaults": {
           "line": {
            "color": "#2a3f5f"
           }
          },
          "ternary": {
           "aaxis": {
            "gridcolor": "white",
            "linecolor": "white",
            "ticks": ""
           },
           "baxis": {
            "gridcolor": "white",
            "linecolor": "white",
            "ticks": ""
           },
           "bgcolor": "#E5ECF6",
           "caxis": {
            "gridcolor": "white",
            "linecolor": "white",
            "ticks": ""
           }
          },
          "title": {
           "x": 0.05
          },
          "xaxis": {
           "automargin": true,
           "gridcolor": "white",
           "linecolor": "white",
           "ticks": "",
           "title": {
            "standoff": 15
           },
           "zerolinecolor": "white",
           "zerolinewidth": 2
          },
          "yaxis": {
           "automargin": true,
           "gridcolor": "white",
           "linecolor": "white",
           "ticks": "",
           "title": {
            "standoff": 15
           },
           "zerolinecolor": "white",
           "zerolinewidth": 2
          }
         }
        },
        "title": {
         "text": "Loss"
        },
        "xaxis": {
         "title": {
          "text": "Epoch"
         }
        },
        "yaxis": {
         "title": {
          "text": "Loss"
         }
        }
       }
      }
     },
     "metadata": {},
     "output_type": "display_data"
    }
   ],
   "source": [
    "# plot loss\n",
    "fig = go.Figure()\n",
    "fig.add_trace(go.Scatter(y=history.history['loss'], mode='lines', name='loss'))\n",
    "fig.add_trace(go.Scatter(y=history.history['val_loss'], mode='lines', name='val_loss'))\n",
    "fig.update_layout(title='Loss', xaxis_title='Epoch', yaxis_title='Loss')\n",
    "fig.show()"
   ]
  },
  {
   "cell_type": "code",
   "execution_count": 20,
   "metadata": {},
   "outputs": [
    {
     "data": {
      "application/vnd.plotly.v1+json": {
       "config": {
        "plotlyServerURL": "https://plot.ly"
       },
       "data": [
        {
         "mode": "lines",
         "name": "accuracy",
         "type": "scatter",
         "y": [
          0.6794425249099731,
          0.5,
          0.6376306414604187,
          0.6881533265113831,
          0.6655052304267883,
          0.7264808416366577,
          0.7595818638801575,
          0.7595818638801575,
          0.7752613425254822,
          0.7909407615661621,
          0.803135871887207,
          0.8101045489311218,
          0.8135888576507568,
          0.815330982208252,
          0.8292682766914368,
          0.8292682766914368,
          0.8257839679718018,
          0.8240417838096619,
          0.8327525854110718,
          0.8362369537353516,
          0.8397212624549866,
          0.8484320640563965,
          0.8484320640563965,
          0.8536585569381714,
          0.8554006814956665,
          0.8588849902153015,
          0.8658536672592163,
          0.8693379759788513,
          0.8658536672592163,
          0.8658536672592163,
          0.8710801601409912,
          0.8728222846984863,
          0.8745644688606262,
          0.8728222846984863,
          0.8710801601409912,
          0.8710801601409912,
          0.8745644688606262,
          0.8745644688606262,
          0.8745644688606262,
          0.8763065934181213,
          0.8797909617424011,
          0.8815330862998962,
          0.8867595791816711,
          0.8867595791816711,
          0.8902438879013062,
          0.891986072063446,
          0.895470380783081,
          0.897212564945221,
          0.8989546895027161,
          0.900696873664856,
          0.9059233665466309,
          0.904181182384491,
          0.9024389982223511,
          0.9024389982223511,
          0.9094076752662659,
          0.9128919839859009,
          0.9181184768676758,
          0.9198606014251709,
          0.9233449697494507,
          0.9233449697494507,
          0.9233449697494507,
          0.9216027855873108,
          0.9233449697494507,
          0.9250870943069458,
          0.9268292784690857,
          0.9268292784690857,
          0.9268292784690857,
          0.9268292784690857,
          0.9320557713508606,
          0.9320557713508606,
          0.9320557713508606,
          0.9320557713508606,
          0.9337978959083557,
          0.9372822046279907,
          0.9372822046279907,
          0.9425086975097656,
          0.9425086975097656,
          0.9442508816719055,
          0.9459930062294006,
          0.9512194991111755,
          0.9512194991111755,
          0.9512194991111755,
          0.9547038078308105,
          0.9564459919929504,
          0.9581881761550903,
          0.9581881761550903,
          0.9581881761550903,
          0.9581881761550903,
          0.9599303007125854,
          0.9599303007125854,
          0.9599303007125854,
          0.9599303007125854,
          0.9599303007125854,
          0.9599303007125854,
          0.9599303007125854,
          0.9599303007125854,
          0.9599303007125854,
          0.9599303007125854,
          0.9616724848747253,
          0.9616724848747253
         ]
        },
        {
         "mode": "lines",
         "name": "val_accuracy",
         "type": "scatter",
         "y": [
          0.6016260385513306,
          0.5934959053993225,
          0.8130081295967102,
          0.6666666865348816,
          0.6829268336296082,
          0.7235772609710693,
          0.7886179089546204,
          0.8292682766914368,
          0.8373983502388,
          0.8373983502388,
          0.8455284833908081,
          0.8373983502388,
          0.8373983502388,
          0.8455284833908081,
          0.8617886304855347,
          0.8617886304855347,
          0.8617886304855347,
          0.8617886304855347,
          0.8617886304855347,
          0.8617886304855347,
          0.8536585569381714,
          0.8536585569381714,
          0.8536585569381714,
          0.8617886304855347,
          0.8536585569381714,
          0.8536585569381714,
          0.8536585569381714,
          0.8536585569381714,
          0.8536585569381714,
          0.8536585569381714,
          0.8536585569381714,
          0.8536585569381714,
          0.8536585569381714,
          0.8455284833908081,
          0.8455284833908081,
          0.8455284833908081,
          0.8455284833908081,
          0.8455284833908081,
          0.8455284833908081,
          0.8455284833908081,
          0.8455284833908081,
          0.8455284833908081,
          0.8373983502388,
          0.8373983502388,
          0.8373983502388,
          0.8373983502388,
          0.8373983502388,
          0.8536585569381714,
          0.8536585569381714,
          0.8455284833908081,
          0.8373983502388,
          0.8292682766914368,
          0.8292682766914368,
          0.8292682766914368,
          0.8292682766914368,
          0.8292682766914368,
          0.8373983502388,
          0.8373983502388,
          0.8373983502388,
          0.8292682766914368,
          0.8292682766914368,
          0.8292682766914368,
          0.8292682766914368,
          0.8292682766914368,
          0.8292682766914368,
          0.8211382031440735,
          0.8292682766914368,
          0.8292682766914368,
          0.8292682766914368,
          0.8292682766914368,
          0.8292682766914368,
          0.8292682766914368,
          0.8292682766914368,
          0.8292682766914368,
          0.8292682766914368,
          0.8292682766914368,
          0.8292682766914368,
          0.8292682766914368,
          0.8130081295967102,
          0.8130081295967102,
          0.8130081295967102,
          0.8130081295967102,
          0.8130081295967102,
          0.8048780560493469,
          0.8048780560493469,
          0.8130081295967102,
          0.8130081295967102,
          0.8130081295967102,
          0.8130081295967102,
          0.8130081295967102,
          0.8130081295967102,
          0.8048780560493469,
          0.8048780560493469,
          0.8048780560493469,
          0.8130081295967102,
          0.8130081295967102,
          0.8130081295967102,
          0.8130081295967102,
          0.8130081295967102,
          0.8130081295967102
         ]
        }
       ],
       "layout": {
        "template": {
         "data": {
          "bar": [
           {
            "error_x": {
             "color": "#2a3f5f"
            },
            "error_y": {
             "color": "#2a3f5f"
            },
            "marker": {
             "line": {
              "color": "#E5ECF6",
              "width": 0.5
             },
             "pattern": {
              "fillmode": "overlay",
              "size": 10,
              "solidity": 0.2
             }
            },
            "type": "bar"
           }
          ],
          "barpolar": [
           {
            "marker": {
             "line": {
              "color": "#E5ECF6",
              "width": 0.5
             },
             "pattern": {
              "fillmode": "overlay",
              "size": 10,
              "solidity": 0.2
             }
            },
            "type": "barpolar"
           }
          ],
          "carpet": [
           {
            "aaxis": {
             "endlinecolor": "#2a3f5f",
             "gridcolor": "white",
             "linecolor": "white",
             "minorgridcolor": "white",
             "startlinecolor": "#2a3f5f"
            },
            "baxis": {
             "endlinecolor": "#2a3f5f",
             "gridcolor": "white",
             "linecolor": "white",
             "minorgridcolor": "white",
             "startlinecolor": "#2a3f5f"
            },
            "type": "carpet"
           }
          ],
          "choropleth": [
           {
            "colorbar": {
             "outlinewidth": 0,
             "ticks": ""
            },
            "type": "choropleth"
           }
          ],
          "contour": [
           {
            "colorbar": {
             "outlinewidth": 0,
             "ticks": ""
            },
            "colorscale": [
             [
              0,
              "#0d0887"
             ],
             [
              0.1111111111111111,
              "#46039f"
             ],
             [
              0.2222222222222222,
              "#7201a8"
             ],
             [
              0.3333333333333333,
              "#9c179e"
             ],
             [
              0.4444444444444444,
              "#bd3786"
             ],
             [
              0.5555555555555556,
              "#d8576b"
             ],
             [
              0.6666666666666666,
              "#ed7953"
             ],
             [
              0.7777777777777778,
              "#fb9f3a"
             ],
             [
              0.8888888888888888,
              "#fdca26"
             ],
             [
              1,
              "#f0f921"
             ]
            ],
            "type": "contour"
           }
          ],
          "contourcarpet": [
           {
            "colorbar": {
             "outlinewidth": 0,
             "ticks": ""
            },
            "type": "contourcarpet"
           }
          ],
          "heatmap": [
           {
            "colorbar": {
             "outlinewidth": 0,
             "ticks": ""
            },
            "colorscale": [
             [
              0,
              "#0d0887"
             ],
             [
              0.1111111111111111,
              "#46039f"
             ],
             [
              0.2222222222222222,
              "#7201a8"
             ],
             [
              0.3333333333333333,
              "#9c179e"
             ],
             [
              0.4444444444444444,
              "#bd3786"
             ],
             [
              0.5555555555555556,
              "#d8576b"
             ],
             [
              0.6666666666666666,
              "#ed7953"
             ],
             [
              0.7777777777777778,
              "#fb9f3a"
             ],
             [
              0.8888888888888888,
              "#fdca26"
             ],
             [
              1,
              "#f0f921"
             ]
            ],
            "type": "heatmap"
           }
          ],
          "heatmapgl": [
           {
            "colorbar": {
             "outlinewidth": 0,
             "ticks": ""
            },
            "colorscale": [
             [
              0,
              "#0d0887"
             ],
             [
              0.1111111111111111,
              "#46039f"
             ],
             [
              0.2222222222222222,
              "#7201a8"
             ],
             [
              0.3333333333333333,
              "#9c179e"
             ],
             [
              0.4444444444444444,
              "#bd3786"
             ],
             [
              0.5555555555555556,
              "#d8576b"
             ],
             [
              0.6666666666666666,
              "#ed7953"
             ],
             [
              0.7777777777777778,
              "#fb9f3a"
             ],
             [
              0.8888888888888888,
              "#fdca26"
             ],
             [
              1,
              "#f0f921"
             ]
            ],
            "type": "heatmapgl"
           }
          ],
          "histogram": [
           {
            "marker": {
             "pattern": {
              "fillmode": "overlay",
              "size": 10,
              "solidity": 0.2
             }
            },
            "type": "histogram"
           }
          ],
          "histogram2d": [
           {
            "colorbar": {
             "outlinewidth": 0,
             "ticks": ""
            },
            "colorscale": [
             [
              0,
              "#0d0887"
             ],
             [
              0.1111111111111111,
              "#46039f"
             ],
             [
              0.2222222222222222,
              "#7201a8"
             ],
             [
              0.3333333333333333,
              "#9c179e"
             ],
             [
              0.4444444444444444,
              "#bd3786"
             ],
             [
              0.5555555555555556,
              "#d8576b"
             ],
             [
              0.6666666666666666,
              "#ed7953"
             ],
             [
              0.7777777777777778,
              "#fb9f3a"
             ],
             [
              0.8888888888888888,
              "#fdca26"
             ],
             [
              1,
              "#f0f921"
             ]
            ],
            "type": "histogram2d"
           }
          ],
          "histogram2dcontour": [
           {
            "colorbar": {
             "outlinewidth": 0,
             "ticks": ""
            },
            "colorscale": [
             [
              0,
              "#0d0887"
             ],
             [
              0.1111111111111111,
              "#46039f"
             ],
             [
              0.2222222222222222,
              "#7201a8"
             ],
             [
              0.3333333333333333,
              "#9c179e"
             ],
             [
              0.4444444444444444,
              "#bd3786"
             ],
             [
              0.5555555555555556,
              "#d8576b"
             ],
             [
              0.6666666666666666,
              "#ed7953"
             ],
             [
              0.7777777777777778,
              "#fb9f3a"
             ],
             [
              0.8888888888888888,
              "#fdca26"
             ],
             [
              1,
              "#f0f921"
             ]
            ],
            "type": "histogram2dcontour"
           }
          ],
          "mesh3d": [
           {
            "colorbar": {
             "outlinewidth": 0,
             "ticks": ""
            },
            "type": "mesh3d"
           }
          ],
          "parcoords": [
           {
            "line": {
             "colorbar": {
              "outlinewidth": 0,
              "ticks": ""
             }
            },
            "type": "parcoords"
           }
          ],
          "pie": [
           {
            "automargin": true,
            "type": "pie"
           }
          ],
          "scatter": [
           {
            "fillpattern": {
             "fillmode": "overlay",
             "size": 10,
             "solidity": 0.2
            },
            "type": "scatter"
           }
          ],
          "scatter3d": [
           {
            "line": {
             "colorbar": {
              "outlinewidth": 0,
              "ticks": ""
             }
            },
            "marker": {
             "colorbar": {
              "outlinewidth": 0,
              "ticks": ""
             }
            },
            "type": "scatter3d"
           }
          ],
          "scattercarpet": [
           {
            "marker": {
             "colorbar": {
              "outlinewidth": 0,
              "ticks": ""
             }
            },
            "type": "scattercarpet"
           }
          ],
          "scattergeo": [
           {
            "marker": {
             "colorbar": {
              "outlinewidth": 0,
              "ticks": ""
             }
            },
            "type": "scattergeo"
           }
          ],
          "scattergl": [
           {
            "marker": {
             "colorbar": {
              "outlinewidth": 0,
              "ticks": ""
             }
            },
            "type": "scattergl"
           }
          ],
          "scattermapbox": [
           {
            "marker": {
             "colorbar": {
              "outlinewidth": 0,
              "ticks": ""
             }
            },
            "type": "scattermapbox"
           }
          ],
          "scatterpolar": [
           {
            "marker": {
             "colorbar": {
              "outlinewidth": 0,
              "ticks": ""
             }
            },
            "type": "scatterpolar"
           }
          ],
          "scatterpolargl": [
           {
            "marker": {
             "colorbar": {
              "outlinewidth": 0,
              "ticks": ""
             }
            },
            "type": "scatterpolargl"
           }
          ],
          "scatterternary": [
           {
            "marker": {
             "colorbar": {
              "outlinewidth": 0,
              "ticks": ""
             }
            },
            "type": "scatterternary"
           }
          ],
          "surface": [
           {
            "colorbar": {
             "outlinewidth": 0,
             "ticks": ""
            },
            "colorscale": [
             [
              0,
              "#0d0887"
             ],
             [
              0.1111111111111111,
              "#46039f"
             ],
             [
              0.2222222222222222,
              "#7201a8"
             ],
             [
              0.3333333333333333,
              "#9c179e"
             ],
             [
              0.4444444444444444,
              "#bd3786"
             ],
             [
              0.5555555555555556,
              "#d8576b"
             ],
             [
              0.6666666666666666,
              "#ed7953"
             ],
             [
              0.7777777777777778,
              "#fb9f3a"
             ],
             [
              0.8888888888888888,
              "#fdca26"
             ],
             [
              1,
              "#f0f921"
             ]
            ],
            "type": "surface"
           }
          ],
          "table": [
           {
            "cells": {
             "fill": {
              "color": "#EBF0F8"
             },
             "line": {
              "color": "white"
             }
            },
            "header": {
             "fill": {
              "color": "#C8D4E3"
             },
             "line": {
              "color": "white"
             }
            },
            "type": "table"
           }
          ]
         },
         "layout": {
          "annotationdefaults": {
           "arrowcolor": "#2a3f5f",
           "arrowhead": 0,
           "arrowwidth": 1
          },
          "autotypenumbers": "strict",
          "coloraxis": {
           "colorbar": {
            "outlinewidth": 0,
            "ticks": ""
           }
          },
          "colorscale": {
           "diverging": [
            [
             0,
             "#8e0152"
            ],
            [
             0.1,
             "#c51b7d"
            ],
            [
             0.2,
             "#de77ae"
            ],
            [
             0.3,
             "#f1b6da"
            ],
            [
             0.4,
             "#fde0ef"
            ],
            [
             0.5,
             "#f7f7f7"
            ],
            [
             0.6,
             "#e6f5d0"
            ],
            [
             0.7,
             "#b8e186"
            ],
            [
             0.8,
             "#7fbc41"
            ],
            [
             0.9,
             "#4d9221"
            ],
            [
             1,
             "#276419"
            ]
           ],
           "sequential": [
            [
             0,
             "#0d0887"
            ],
            [
             0.1111111111111111,
             "#46039f"
            ],
            [
             0.2222222222222222,
             "#7201a8"
            ],
            [
             0.3333333333333333,
             "#9c179e"
            ],
            [
             0.4444444444444444,
             "#bd3786"
            ],
            [
             0.5555555555555556,
             "#d8576b"
            ],
            [
             0.6666666666666666,
             "#ed7953"
            ],
            [
             0.7777777777777778,
             "#fb9f3a"
            ],
            [
             0.8888888888888888,
             "#fdca26"
            ],
            [
             1,
             "#f0f921"
            ]
           ],
           "sequentialminus": [
            [
             0,
             "#0d0887"
            ],
            [
             0.1111111111111111,
             "#46039f"
            ],
            [
             0.2222222222222222,
             "#7201a8"
            ],
            [
             0.3333333333333333,
             "#9c179e"
            ],
            [
             0.4444444444444444,
             "#bd3786"
            ],
            [
             0.5555555555555556,
             "#d8576b"
            ],
            [
             0.6666666666666666,
             "#ed7953"
            ],
            [
             0.7777777777777778,
             "#fb9f3a"
            ],
            [
             0.8888888888888888,
             "#fdca26"
            ],
            [
             1,
             "#f0f921"
            ]
           ]
          },
          "colorway": [
           "#636efa",
           "#EF553B",
           "#00cc96",
           "#ab63fa",
           "#FFA15A",
           "#19d3f3",
           "#FF6692",
           "#B6E880",
           "#FF97FF",
           "#FECB52"
          ],
          "font": {
           "color": "#2a3f5f"
          },
          "geo": {
           "bgcolor": "white",
           "lakecolor": "white",
           "landcolor": "#E5ECF6",
           "showlakes": true,
           "showland": true,
           "subunitcolor": "white"
          },
          "hoverlabel": {
           "align": "left"
          },
          "hovermode": "closest",
          "mapbox": {
           "style": "light"
          },
          "paper_bgcolor": "white",
          "plot_bgcolor": "#E5ECF6",
          "polar": {
           "angularaxis": {
            "gridcolor": "white",
            "linecolor": "white",
            "ticks": ""
           },
           "bgcolor": "#E5ECF6",
           "radialaxis": {
            "gridcolor": "white",
            "linecolor": "white",
            "ticks": ""
           }
          },
          "scene": {
           "xaxis": {
            "backgroundcolor": "#E5ECF6",
            "gridcolor": "white",
            "gridwidth": 2,
            "linecolor": "white",
            "showbackground": true,
            "ticks": "",
            "zerolinecolor": "white"
           },
           "yaxis": {
            "backgroundcolor": "#E5ECF6",
            "gridcolor": "white",
            "gridwidth": 2,
            "linecolor": "white",
            "showbackground": true,
            "ticks": "",
            "zerolinecolor": "white"
           },
           "zaxis": {
            "backgroundcolor": "#E5ECF6",
            "gridcolor": "white",
            "gridwidth": 2,
            "linecolor": "white",
            "showbackground": true,
            "ticks": "",
            "zerolinecolor": "white"
           }
          },
          "shapedefaults": {
           "line": {
            "color": "#2a3f5f"
           }
          },
          "ternary": {
           "aaxis": {
            "gridcolor": "white",
            "linecolor": "white",
            "ticks": ""
           },
           "baxis": {
            "gridcolor": "white",
            "linecolor": "white",
            "ticks": ""
           },
           "bgcolor": "#E5ECF6",
           "caxis": {
            "gridcolor": "white",
            "linecolor": "white",
            "ticks": ""
           }
          },
          "title": {
           "x": 0.05
          },
          "xaxis": {
           "automargin": true,
           "gridcolor": "white",
           "linecolor": "white",
           "ticks": "",
           "title": {
            "standoff": 15
           },
           "zerolinecolor": "white",
           "zerolinewidth": 2
          },
          "yaxis": {
           "automargin": true,
           "gridcolor": "white",
           "linecolor": "white",
           "ticks": "",
           "title": {
            "standoff": 15
           },
           "zerolinecolor": "white",
           "zerolinewidth": 2
          }
         }
        },
        "title": {
         "text": "Accuracy"
        },
        "xaxis": {
         "title": {
          "text": "Epoch"
         }
        },
        "yaxis": {
         "title": {
          "text": "Accuracy"
         }
        }
       }
      }
     },
     "metadata": {},
     "output_type": "display_data"
    }
   ],
   "source": [
    "# plot accuracy\n",
    "fig = go.Figure()\n",
    "fig.add_trace(go.Scatter(y=history.history['accuracy'], mode='lines', name='accuracy'))\n",
    "fig.add_trace(go.Scatter(y=history.history['val_accuracy'], mode='lines', name='val_accuracy'))\n",
    "fig.update_layout(title='Accuracy', xaxis_title='Epoch', yaxis_title='Accuracy')\n",
    "fig.show()"
   ]
  },
  {
   "cell_type": "code",
   "execution_count": null,
   "metadata": {},
   "outputs": [],
   "source": []
  }
 ],
 "metadata": {
  "kernelspec": {
   "display_name": "corporate-bankruptcy",
   "language": "python",
   "name": "python3"
  },
  "language_info": {
   "codemirror_mode": {
    "name": "ipython",
    "version": 3
   },
   "file_extension": ".py",
   "mimetype": "text/x-python",
   "name": "python",
   "nbconvert_exporter": "python",
   "pygments_lexer": "ipython3",
   "version": "3.11.3"
  },
  "orig_nbformat": 4
 },
 "nbformat": 4,
 "nbformat_minor": 2
}
